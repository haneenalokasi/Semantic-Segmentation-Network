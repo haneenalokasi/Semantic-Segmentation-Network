{
 "cells": [
  {
   "cell_type": "code",
   "execution_count": 1,
   "metadata": {},
   "outputs": [
    {
     "name": "stdout",
     "output_type": "stream",
     "text": [
      "env: SM_FRAMEWORK=tf.keras\n"
     ]
    }
   ],
   "source": [
    "%env SM_FRAMEWORK=tf.keras"
   ]
  },
  {
   "cell_type": "code",
   "execution_count": 2,
   "metadata": {},
   "outputs": [
    {
     "name": "stdout",
     "output_type": "stream",
     "text": [
      "Segmentation Models: using `tf.keras` framework.\n"
     ]
    }
   ],
   "source": [
    "import tensorflow as tf\n",
    "import segmentation_models as sm\n",
    "import glob\n",
    "import cv2\n",
    "import os\n",
    "import numpy as np\n",
    "from matplotlib import pyplot as plt\n",
    "import keras "
   ]
  },
  {
   "cell_type": "code",
   "execution_count": 3,
   "metadata": {},
   "outputs": [],
   "source": [
    "#from keras.utils import normalize\n",
    "from keras.utils.np_utils import normalize\n",
    "from keras.metrics import MeanIoU"
   ]
  },
  {
   "cell_type": "code",
   "execution_count": 4,
   "metadata": {},
   "outputs": [],
   "source": [
    "#Resizing images, if needed\n",
    "SIZE_X = 128 \n",
    "SIZE_Y = 128\n",
    "#n_classes=5"
   ]
  },
  {
   "cell_type": "code",
   "execution_count": 5,
   "metadata": {},
   "outputs": [],
   "source": [
    "#Capture training image info as a list\n",
    "train_images = []\n",
    "\n",
    "for directory_path in glob.glob(\"selfdrivingcars_data/Images_128/\"):\n",
    "    for img_path in glob.glob(os.path.join(directory_path, \"*.tiff\")):\n",
    "        img = cv2.imread(img_path, 1)       \n",
    "        train_images.append(img)\n",
    "       \n",
    "#Convert list to array for machine learning processing        \n",
    "train_images = np.array(train_images)"
   ]
  },
  {
   "cell_type": "code",
   "execution_count": 6,
   "metadata": {},
   "outputs": [],
   "source": [
    "#Capture mask/label info as a list\n",
    "train_masks = [] \n",
    "for directory_path in glob.glob(\"selfdrivingcars_data/Masks_128/\"):\n",
    "    for mask_path in glob.glob(os.path.join(directory_path, \"*.tiff\")):\n",
    "        mask = cv2.imread(mask_path, 0)       \n",
    "        train_masks.append(mask)\n",
    "        \n",
    "#Convert list to array for machine learning processing          \n",
    "train_masks = np.array(train_masks)"
   ]
  },
  {
   "cell_type": "code",
   "execution_count": 7,
   "metadata": {},
   "outputs": [
    {
     "name": "stderr",
     "output_type": "stream",
     "text": [
      "C:\\Users\\user\\anaconda3\\lib\\site-packages\\sklearn\\utils\\validation.py:73: DataConversionWarning: A column-vector y was passed when a 1d array was expected. Please change the shape of y to (n_samples, ), for example using ravel().\n",
      "  return f(**kwargs)\n"
     ]
    },
    {
     "data": {
      "text/plain": [
       "array([0, 1, 2, 3, 4], dtype=int64)"
      ]
     },
     "execution_count": 7,
     "metadata": {},
     "output_type": "execute_result"
    }
   ],
   "source": [
    "#Encode labels... but multi dim array so need to flatten, encode and reshape\n",
    "from sklearn.preprocessing import LabelEncoder\n",
    "labelencoder = LabelEncoder()\n",
    "n, h, w = train_masks.shape\n",
    "train_masks_reshaped = train_masks.reshape(-1,1)\n",
    "train_masks_reshaped_encoded = labelencoder.fit_transform(train_masks_reshaped)\n",
    "train_masks_encoded_original_shape = train_masks_reshaped_encoded.reshape(n, h, w)\n",
    "\n",
    "np.unique(train_masks_encoded_original_shape)"
   ]
  },
  {
   "cell_type": "code",
   "execution_count": 8,
   "metadata": {},
   "outputs": [],
   "source": [
    "train_masks_input = np.expand_dims(train_masks_encoded_original_shape, axis=3)"
   ]
  },
  {
   "cell_type": "code",
   "execution_count": 9,
   "metadata": {},
   "outputs": [
    {
     "name": "stdout",
     "output_type": "stream",
     "text": [
      "Class values in the dataset are ...  [0 1 2 3 4]\n"
     ]
    }
   ],
   "source": [
    "#Picking 10% for testing and remaining for training\n",
    "from sklearn.model_selection import train_test_split\n",
    "X1, X_test, y1, y_test = train_test_split(train_images, train_masks_input, test_size = 0.10, random_state = 0)\n",
    "\n",
    "#Further split training data t a smaller subset for quick testing\n",
    "X_train, X_do_not_use, y_train, y_do_not_use = train_test_split(X1, y1, test_size = 0.5, random_state = 0)\n",
    "\n",
    "print(\"Class values in the dataset are ... \", np.unique(y_train))  # 0 is the background/few unlabeled "
   ]
  },
  {
   "cell_type": "code",
   "execution_count": 10,
   "metadata": {},
   "outputs": [],
   "source": [
    "from keras.utils.np_utils import to_categorical\n",
    "\n",
    "n_classes=5\n",
    "\n",
    "train_masks_cat = to_categorical(y_train, num_classes=n_classes)\n",
    "y_train_cat = train_masks_cat.reshape((y_train.shape[0], y_train.shape[1], y_train.shape[2], n_classes))\n",
    "\n",
    "test_masks_cat = to_categorical(y_test, num_classes=n_classes)\n",
    "y_test_cat = test_masks_cat.reshape((y_test.shape[0], y_test.shape[1], y_test.shape[2], n_classes))"
   ]
  },
  {
   "cell_type": "code",
   "execution_count": 11,
   "metadata": {},
   "outputs": [],
   "source": [
    "#Reused parameters in all models\n",
    "\n",
    "n_classes=5\n",
    "activation='softmax'\n",
    "\n",
    "LR = 0.0001\n",
    "optim = tf.keras.optimizers.Adam(LR)\n",
    "\n",
    "#dice_loss = sm.losses.DiceLoss(class_weights=np.array([0.25, 0.25, 0.25, 0.25])) \n",
    "#focal_loss = sm.losses.CategoricalFocalLoss()\n",
    "#total_loss = dice_loss + (1 * focal_loss)\n",
    "\n",
    "#Total_loss can be imported directly from library\n",
    "total_loss = sm.losses.binary_focal_dice_loss \n",
    "\n",
    "metrics = [sm.metrics.IOUScore(threshold=0.5), sm.metrics.FScore(threshold=0.5)]\n"
   ]
  },
  {
   "cell_type": "code",
   "execution_count": 12,
   "metadata": {},
   "outputs": [],
   "source": [
    "#VGG-16\n",
    "BACKBONE3 = 'vgg16'\n",
    "preprocess_input3 = sm.get_preprocessing(BACKBONE3)"
   ]
  },
  {
   "cell_type": "code",
   "execution_count": 13,
   "metadata": {},
   "outputs": [],
   "source": [
    "#Preprocess input\n",
    "X_train3 = preprocess_input3(X_train)\n",
    "X_test3 = preprocess_input3(X_test)"
   ]
  },
  {
   "cell_type": "code",
   "execution_count": 14,
   "metadata": {},
   "outputs": [],
   "source": [
    "#Define model\n",
    "model3 = sm.Unet(BACKBONE3, encoder_weights='imagenet', classes=n_classes, activation=activation)"
   ]
  },
  {
   "cell_type": "code",
   "execution_count": 15,
   "metadata": {},
   "outputs": [],
   "source": [
    "#Compile keras model with defined optimozer, loss and metrics\n",
    "model3.compile(optim, total_loss, metrics=metrics)"
   ]
  },
  {
   "cell_type": "code",
   "execution_count": 16,
   "metadata": {},
   "outputs": [
    {
     "name": "stdout",
     "output_type": "stream",
     "text": [
      "Model: \"model\"\n",
      "__________________________________________________________________________________________________\n",
      " Layer (type)                   Output Shape         Param #     Connected to                     \n",
      "==================================================================================================\n",
      " input_1 (InputLayer)           [(None, None, None,  0           []                               \n",
      "                                 3)]                                                              \n",
      "                                                                                                  \n",
      " block1_conv1 (Conv2D)          (None, None, None,   1792        ['input_1[0][0]']                \n",
      "                                64)                                                               \n",
      "                                                                                                  \n",
      " block1_conv2 (Conv2D)          (None, None, None,   36928       ['block1_conv1[0][0]']           \n",
      "                                64)                                                               \n",
      "                                                                                                  \n",
      " block1_pool (MaxPooling2D)     (None, None, None,   0           ['block1_conv2[0][0]']           \n",
      "                                64)                                                               \n",
      "                                                                                                  \n",
      " block2_conv1 (Conv2D)          (None, None, None,   73856       ['block1_pool[0][0]']            \n",
      "                                128)                                                              \n",
      "                                                                                                  \n",
      " block2_conv2 (Conv2D)          (None, None, None,   147584      ['block2_conv1[0][0]']           \n",
      "                                128)                                                              \n",
      "                                                                                                  \n",
      " block2_pool (MaxPooling2D)     (None, None, None,   0           ['block2_conv2[0][0]']           \n",
      "                                128)                                                              \n",
      "                                                                                                  \n",
      " block3_conv1 (Conv2D)          (None, None, None,   295168      ['block2_pool[0][0]']            \n",
      "                                256)                                                              \n",
      "                                                                                                  \n",
      " block3_conv2 (Conv2D)          (None, None, None,   590080      ['block3_conv1[0][0]']           \n",
      "                                256)                                                              \n",
      "                                                                                                  \n",
      " block3_conv3 (Conv2D)          (None, None, None,   590080      ['block3_conv2[0][0]']           \n",
      "                                256)                                                              \n",
      "                                                                                                  \n",
      " block3_pool (MaxPooling2D)     (None, None, None,   0           ['block3_conv3[0][0]']           \n",
      "                                256)                                                              \n",
      "                                                                                                  \n",
      " block4_conv1 (Conv2D)          (None, None, None,   1180160     ['block3_pool[0][0]']            \n",
      "                                512)                                                              \n",
      "                                                                                                  \n",
      " block4_conv2 (Conv2D)          (None, None, None,   2359808     ['block4_conv1[0][0]']           \n",
      "                                512)                                                              \n",
      "                                                                                                  \n",
      " block4_conv3 (Conv2D)          (None, None, None,   2359808     ['block4_conv2[0][0]']           \n",
      "                                512)                                                              \n",
      "                                                                                                  \n",
      " block4_pool (MaxPooling2D)     (None, None, None,   0           ['block4_conv3[0][0]']           \n",
      "                                512)                                                              \n",
      "                                                                                                  \n",
      " block5_conv1 (Conv2D)          (None, None, None,   2359808     ['block4_pool[0][0]']            \n",
      "                                512)                                                              \n",
      "                                                                                                  \n",
      " block5_conv2 (Conv2D)          (None, None, None,   2359808     ['block5_conv1[0][0]']           \n",
      "                                512)                                                              \n",
      "                                                                                                  \n",
      " block5_conv3 (Conv2D)          (None, None, None,   2359808     ['block5_conv2[0][0]']           \n",
      "                                512)                                                              \n",
      "                                                                                                  \n",
      " block5_pool (MaxPooling2D)     (None, None, None,   0           ['block5_conv3[0][0]']           \n",
      "                                512)                                                              \n",
      "                                                                                                  \n",
      " center_block1_conv (Conv2D)    (None, None, None,   2359296     ['block5_pool[0][0]']            \n",
      "                                512)                                                              \n",
      "                                                                                                  \n",
      " center_block1_bn (BatchNormali  (None, None, None,   2048       ['center_block1_conv[0][0]']     \n",
      " zation)                        512)                                                              \n",
      "                                                                                                  \n",
      " center_block1_relu (Activation  (None, None, None,   0          ['center_block1_bn[0][0]']       \n",
      " )                              512)                                                              \n",
      "                                                                                                  \n",
      " center_block2_conv (Conv2D)    (None, None, None,   2359296     ['center_block1_relu[0][0]']     \n",
      "                                512)                                                              \n",
      "                                                                                                  \n",
      " center_block2_bn (BatchNormali  (None, None, None,   2048       ['center_block2_conv[0][0]']     \n",
      " zation)                        512)                                                              \n",
      "                                                                                                  \n",
      " center_block2_relu (Activation  (None, None, None,   0          ['center_block2_bn[0][0]']       \n",
      " )                              512)                                                              \n",
      "                                                                                                  \n",
      " decoder_stage0_upsampling (UpS  (None, None, None,   0          ['center_block2_relu[0][0]']     \n",
      " ampling2D)                     512)                                                              \n",
      "                                                                                                  \n",
      " decoder_stage0_concat (Concate  (None, None, None,   0          ['decoder_stage0_upsampling[0][0]\n",
      " nate)                          1024)                            ',                               \n",
      "                                                                  'block5_conv3[0][0]']           \n",
      "                                                                                                  \n",
      " decoder_stage0a_conv (Conv2D)  (None, None, None,   2359296     ['decoder_stage0_concat[0][0]']  \n",
      "                                256)                                                              \n",
      "                                                                                                  \n",
      " decoder_stage0a_bn (BatchNorma  (None, None, None,   1024       ['decoder_stage0a_conv[0][0]']   \n",
      " lization)                      256)                                                              \n",
      "                                                                                                  \n",
      " decoder_stage0a_relu (Activati  (None, None, None,   0          ['decoder_stage0a_bn[0][0]']     \n",
      " on)                            256)                                                              \n",
      "                                                                                                  \n",
      " decoder_stage0b_conv (Conv2D)  (None, None, None,   589824      ['decoder_stage0a_relu[0][0]']   \n",
      "                                256)                                                              \n",
      "                                                                                                  \n",
      " decoder_stage0b_bn (BatchNorma  (None, None, None,   1024       ['decoder_stage0b_conv[0][0]']   \n",
      " lization)                      256)                                                              \n",
      "                                                                                                  \n",
      " decoder_stage0b_relu (Activati  (None, None, None,   0          ['decoder_stage0b_bn[0][0]']     \n",
      " on)                            256)                                                              \n",
      "                                                                                                  \n",
      " decoder_stage1_upsampling (UpS  (None, None, None,   0          ['decoder_stage0b_relu[0][0]']   \n",
      " ampling2D)                     256)                                                              \n",
      "                                                                                                  \n",
      " decoder_stage1_concat (Concate  (None, None, None,   0          ['decoder_stage1_upsampling[0][0]\n",
      " nate)                          768)                             ',                               \n",
      "                                                                  'block4_conv3[0][0]']           \n",
      "                                                                                                  \n",
      " decoder_stage1a_conv (Conv2D)  (None, None, None,   884736      ['decoder_stage1_concat[0][0]']  \n",
      "                                128)                                                              \n",
      "                                                                                                  \n",
      " decoder_stage1a_bn (BatchNorma  (None, None, None,   512        ['decoder_stage1a_conv[0][0]']   \n",
      " lization)                      128)                                                              \n",
      "                                                                                                  \n",
      " decoder_stage1a_relu (Activati  (None, None, None,   0          ['decoder_stage1a_bn[0][0]']     \n",
      " on)                            128)                                                              \n",
      "                                                                                                  \n",
      " decoder_stage1b_conv (Conv2D)  (None, None, None,   147456      ['decoder_stage1a_relu[0][0]']   \n",
      "                                128)                                                              \n",
      "                                                                                                  \n",
      " decoder_stage1b_bn (BatchNorma  (None, None, None,   512        ['decoder_stage1b_conv[0][0]']   \n",
      " lization)                      128)                                                              \n",
      "                                                                                                  \n",
      " decoder_stage1b_relu (Activati  (None, None, None,   0          ['decoder_stage1b_bn[0][0]']     \n",
      " on)                            128)                                                              \n",
      "                                                                                                  \n",
      " decoder_stage2_upsampling (UpS  (None, None, None,   0          ['decoder_stage1b_relu[0][0]']   \n",
      " ampling2D)                     128)                                                              \n",
      "                                                                                                  \n",
      " decoder_stage2_concat (Concate  (None, None, None,   0          ['decoder_stage2_upsampling[0][0]\n",
      " nate)                          384)                             ',                               \n",
      "                                                                  'block3_conv3[0][0]']           \n",
      "                                                                                                  \n",
      " decoder_stage2a_conv (Conv2D)  (None, None, None,   221184      ['decoder_stage2_concat[0][0]']  \n",
      "                                64)                                                               \n",
      "                                                                                                  \n",
      " decoder_stage2a_bn (BatchNorma  (None, None, None,   256        ['decoder_stage2a_conv[0][0]']   \n",
      " lization)                      64)                                                               \n",
      "                                                                                                  \n",
      " decoder_stage2a_relu (Activati  (None, None, None,   0          ['decoder_stage2a_bn[0][0]']     \n",
      " on)                            64)                                                               \n",
      "                                                                                                  \n",
      " decoder_stage2b_conv (Conv2D)  (None, None, None,   36864       ['decoder_stage2a_relu[0][0]']   \n",
      "                                64)                                                               \n",
      "                                                                                                  \n",
      " decoder_stage2b_bn (BatchNorma  (None, None, None,   256        ['decoder_stage2b_conv[0][0]']   \n",
      " lization)                      64)                                                               \n",
      "                                                                                                  \n",
      " decoder_stage2b_relu (Activati  (None, None, None,   0          ['decoder_stage2b_bn[0][0]']     \n",
      " on)                            64)                                                               \n",
      "                                                                                                  \n",
      " decoder_stage3_upsampling (UpS  (None, None, None,   0          ['decoder_stage2b_relu[0][0]']   \n",
      " ampling2D)                     64)                                                               \n",
      "                                                                                                  \n",
      " decoder_stage3_concat (Concate  (None, None, None,   0          ['decoder_stage3_upsampling[0][0]\n",
      " nate)                          192)                             ',                               \n",
      "                                                                  'block2_conv2[0][0]']           \n",
      "                                                                                                  \n",
      " decoder_stage3a_conv (Conv2D)  (None, None, None,   55296       ['decoder_stage3_concat[0][0]']  \n",
      "                                32)                                                               \n",
      "                                                                                                  \n",
      " decoder_stage3a_bn (BatchNorma  (None, None, None,   128        ['decoder_stage3a_conv[0][0]']   \n",
      " lization)                      32)                                                               \n",
      "                                                                                                  \n",
      " decoder_stage3a_relu (Activati  (None, None, None,   0          ['decoder_stage3a_bn[0][0]']     \n",
      " on)                            32)                                                               \n",
      "                                                                                                  \n",
      " decoder_stage3b_conv (Conv2D)  (None, None, None,   9216        ['decoder_stage3a_relu[0][0]']   \n",
      "                                32)                                                               \n",
      "                                                                                                  \n",
      " decoder_stage3b_bn (BatchNorma  (None, None, None,   128        ['decoder_stage3b_conv[0][0]']   \n",
      " lization)                      32)                                                               \n",
      "                                                                                                  \n",
      " decoder_stage3b_relu (Activati  (None, None, None,   0          ['decoder_stage3b_bn[0][0]']     \n",
      " on)                            32)                                                               \n",
      "                                                                                                  \n",
      " decoder_stage4_upsampling (UpS  (None, None, None,   0          ['decoder_stage3b_relu[0][0]']   \n",
      " ampling2D)                     32)                                                               \n",
      "                                                                                                  \n",
      " decoder_stage4a_conv (Conv2D)  (None, None, None,   4608        ['decoder_stage4_upsampling[0][0]\n",
      "                                16)                              ']                               \n",
      "                                                                                                  \n",
      " decoder_stage4a_bn (BatchNorma  (None, None, None,   64         ['decoder_stage4a_conv[0][0]']   \n",
      " lization)                      16)                                                               \n",
      "                                                                                                  \n",
      " decoder_stage4a_relu (Activati  (None, None, None,   0          ['decoder_stage4a_bn[0][0]']     \n",
      " on)                            16)                                                               \n",
      "                                                                                                  \n",
      " decoder_stage4b_conv (Conv2D)  (None, None, None,   2304        ['decoder_stage4a_relu[0][0]']   \n",
      "                                16)                                                               \n",
      "                                                                                                  \n",
      " decoder_stage4b_bn (BatchNorma  (None, None, None,   64         ['decoder_stage4b_conv[0][0]']   \n",
      " lization)                      16)                                                               \n",
      "                                                                                                  \n",
      " decoder_stage4b_relu (Activati  (None, None, None,   0          ['decoder_stage4b_bn[0][0]']     \n",
      " on)                            16)                                                               \n",
      "                                                                                                  \n",
      " final_conv (Conv2D)            (None, None, None,   725         ['decoder_stage4b_relu[0][0]']   \n",
      "                                5)                                                                \n",
      "                                                                                                  \n",
      " softmax (Activation)           (None, None, None,   0           ['final_conv[0][0]']             \n",
      "                                5)                                                                \n",
      "                                                                                                  \n",
      "==================================================================================================\n",
      "Total params: 23,752,853\n",
      "Trainable params: 23,748,821\n",
      "Non-trainable params: 4,032\n",
      "__________________________________________________________________________________________________\n",
      "None\n"
     ]
    }
   ],
   "source": [
    "print(model3.summary())"
   ]
  },
  {
   "cell_type": "code",
   "execution_count": 17,
   "metadata": {},
   "outputs": [
    {
     "name": "stdout",
     "output_type": "stream",
     "text": [
      "Epoch 1/50\n",
      "57/57 [==============================] - 79s 1s/step - loss: 0.7195 - iou_score: 0.2515 - f1-score: 0.3436 - val_loss: 0.8016 - val_iou_score: 0.2295 - val_f1-score: 0.3173\n",
      "Epoch 2/50\n",
      "57/57 [==============================] - 77s 1s/step - loss: 0.5860 - iou_score: 0.4147 - f1-score: 0.5084 - val_loss: 0.6163 - val_iou_score: 0.3960 - val_f1-score: 0.5046\n",
      "Epoch 3/50\n",
      "57/57 [==============================] - 76s 1s/step - loss: 0.5344 - iou_score: 0.4578 - f1-score: 0.5479 - val_loss: 0.5549 - val_iou_score: 0.4363 - val_f1-score: 0.5221\n",
      "Epoch 4/50\n",
      "57/57 [==============================] - 76s 1s/step - loss: 0.5059 - iou_score: 0.4787 - f1-score: 0.5677 - val_loss: 0.5082 - val_iou_score: 0.4667 - val_f1-score: 0.5429\n",
      "Epoch 5/50\n",
      "57/57 [==============================] - 76s 1s/step - loss: 0.4847 - iou_score: 0.5068 - f1-score: 0.5924 - val_loss: 0.4963 - val_iou_score: 0.4723 - val_f1-score: 0.5405\n",
      "Epoch 6/50\n",
      "57/57 [==============================] - 77s 1s/step - loss: 0.4664 - iou_score: 0.5225 - f1-score: 0.6042 - val_loss: 0.5437 - val_iou_score: 0.4158 - val_f1-score: 0.4980\n",
      "Epoch 7/50\n",
      "57/57 [==============================] - 75s 1s/step - loss: 0.4506 - iou_score: 0.5415 - f1-score: 0.6196 - val_loss: 0.5717 - val_iou_score: 0.3907 - val_f1-score: 0.4834\n",
      "Epoch 8/50\n",
      "57/57 [==============================] - 77s 1s/step - loss: 0.4359 - iou_score: 0.5565 - f1-score: 0.6309 - val_loss: 0.5469 - val_iou_score: 0.4157 - val_f1-score: 0.5061\n",
      "Epoch 9/50\n",
      "57/57 [==============================] - 75s 1s/step - loss: 0.4240 - iou_score: 0.5706 - f1-score: 0.6428 - val_loss: 0.5509 - val_iou_score: 0.4115 - val_f1-score: 0.5067\n",
      "Epoch 10/50\n",
      "57/57 [==============================] - 75s 1s/step - loss: 0.4135 - iou_score: 0.5697 - f1-score: 0.6399 - val_loss: 0.5076 - val_iou_score: 0.4616 - val_f1-score: 0.5510\n",
      "Epoch 11/50\n",
      "57/57 [==============================] - 76s 1s/step - loss: 0.4041 - iou_score: 0.5773 - f1-score: 0.6464 - val_loss: 0.4632 - val_iou_score: 0.5149 - val_f1-score: 0.5961\n",
      "Epoch 12/50\n",
      "57/57 [==============================] - 76s 1s/step - loss: 0.3958 - iou_score: 0.5846 - f1-score: 0.6526 - val_loss: 0.4129 - val_iou_score: 0.5642 - val_f1-score: 0.6339\n",
      "Epoch 13/50\n",
      "57/57 [==============================] - 75s 1s/step - loss: 0.3895 - iou_score: 0.5937 - f1-score: 0.6611 - val_loss: 0.4224 - val_iou_score: 0.5601 - val_f1-score: 0.6328\n",
      "Epoch 14/50\n",
      "57/57 [==============================] - 75s 1s/step - loss: 0.3835 - iou_score: 0.6028 - f1-score: 0.6696 - val_loss: 0.4223 - val_iou_score: 0.5512 - val_f1-score: 0.6209\n",
      "Epoch 15/50\n",
      "57/57 [==============================] - 75s 1s/step - loss: 0.3796 - iou_score: 0.6025 - f1-score: 0.6690 - val_loss: 0.3910 - val_iou_score: 0.5833 - val_f1-score: 0.6508\n",
      "Epoch 16/50\n",
      "57/57 [==============================] - 77s 1s/step - loss: 0.3736 - iou_score: 0.6106 - f1-score: 0.6766 - val_loss: 0.3843 - val_iou_score: 0.5887 - val_f1-score: 0.6552\n",
      "Epoch 17/50\n",
      "57/57 [==============================] - 76s 1s/step - loss: 0.3691 - iou_score: 0.6179 - f1-score: 0.6834 - val_loss: 0.3805 - val_iou_score: 0.5919 - val_f1-score: 0.6585\n",
      "Epoch 18/50\n",
      "57/57 [==============================] - 75s 1s/step - loss: 0.3667 - iou_score: 0.6082 - f1-score: 0.6736 - val_loss: 0.3772 - val_iou_score: 0.5947 - val_f1-score: 0.6618\n",
      "Epoch 19/50\n",
      "57/57 [==============================] - 76s 1s/step - loss: 0.3626 - iou_score: 0.6152 - f1-score: 0.6803 - val_loss: 0.4052 - val_iou_score: 0.5692 - val_f1-score: 0.6378\n",
      "Epoch 20/50\n",
      "57/57 [==============================] - 76s 1s/step - loss: 0.3574 - iou_score: 0.6139 - f1-score: 0.6800 - val_loss: 0.3887 - val_iou_score: 0.5869 - val_f1-score: 0.6585\n",
      "Epoch 21/50\n",
      "57/57 [==============================] - 76s 1s/step - loss: 0.3388 - iou_score: 0.6571 - f1-score: 0.7411 - val_loss: 0.3480 - val_iou_score: 0.6639 - val_f1-score: 0.7548\n",
      "Epoch 22/50\n",
      "57/57 [==============================] - 76s 1s/step - loss: 0.3038 - iou_score: 0.6892 - f1-score: 0.7800 - val_loss: 0.3440 - val_iou_score: 0.6721 - val_f1-score: 0.7626\n",
      "Epoch 23/50\n",
      "57/57 [==============================] - 75s 1s/step - loss: 0.2853 - iou_score: 0.6889 - f1-score: 0.7779 - val_loss: 0.3003 - val_iou_score: 0.6725 - val_f1-score: 0.7646\n",
      "Epoch 24/50\n",
      "57/57 [==============================] - 76s 1s/step - loss: 0.2620 - iou_score: 0.7184 - f1-score: 0.8073 - val_loss: 0.2906 - val_iou_score: 0.6784 - val_f1-score: 0.7709\n",
      "Epoch 25/50\n",
      "57/57 [==============================] - 76s 1s/step - loss: 0.2410 - iou_score: 0.7251 - f1-score: 0.8114 - val_loss: 0.2513 - val_iou_score: 0.7156 - val_f1-score: 0.8016\n",
      "Epoch 26/50\n",
      "57/57 [==============================] - 75s 1s/step - loss: 0.2381 - iou_score: 0.7337 - f1-score: 0.8187 - val_loss: 0.2503 - val_iou_score: 0.7174 - val_f1-score: 0.8019\n",
      "Epoch 27/50\n",
      "57/57 [==============================] - 76s 1s/step - loss: 0.2217 - iou_score: 0.7421 - f1-score: 0.8278 - val_loss: 0.2570 - val_iou_score: 0.7070 - val_f1-score: 0.7945\n",
      "Epoch 28/50\n",
      "57/57 [==============================] - 76s 1s/step - loss: 0.2238 - iou_score: 0.7546 - f1-score: 0.8381 - val_loss: 0.2356 - val_iou_score: 0.7281 - val_f1-score: 0.8115\n",
      "Epoch 29/50\n",
      "57/57 [==============================] - 75s 1s/step - loss: 0.2189 - iou_score: 0.7524 - f1-score: 0.8349 - val_loss: 0.2439 - val_iou_score: 0.7139 - val_f1-score: 0.7993\n",
      "Epoch 30/50\n",
      "57/57 [==============================] - 77s 1s/step - loss: 0.2098 - iou_score: 0.7578 - f1-score: 0.8388 - val_loss: 0.2328 - val_iou_score: 0.7252 - val_f1-score: 0.8095\n",
      "Epoch 31/50\n",
      "57/57 [==============================] - 76s 1s/step - loss: 0.2116 - iou_score: 0.7644 - f1-score: 0.8416 - val_loss: 0.2360 - val_iou_score: 0.7247 - val_f1-score: 0.8087\n",
      "Epoch 32/50\n",
      "57/57 [==============================] - 76s 1s/step - loss: 0.2021 - iou_score: 0.7662 - f1-score: 0.8451 - val_loss: 0.2289 - val_iou_score: 0.7292 - val_f1-score: 0.8124\n",
      "Epoch 33/50\n",
      "57/57 [==============================] - 76s 1s/step - loss: 0.2106 - iou_score: 0.7628 - f1-score: 0.8392 - val_loss: 0.2320 - val_iou_score: 0.7246 - val_f1-score: 0.8084\n",
      "Epoch 34/50\n",
      "57/57 [==============================] - 75s 1s/step - loss: 0.2026 - iou_score: 0.7695 - f1-score: 0.8476 - val_loss: 0.2318 - val_iou_score: 0.7233 - val_f1-score: 0.8081\n",
      "Epoch 35/50\n",
      "57/57 [==============================] - 76s 1s/step - loss: 0.2034 - iou_score: 0.7630 - f1-score: 0.8428 - val_loss: 0.2297 - val_iou_score: 0.7267 - val_f1-score: 0.8105\n",
      "Epoch 36/50\n",
      "57/57 [==============================] - 76s 1s/step - loss: 0.1986 - iou_score: 0.7685 - f1-score: 0.8461 - val_loss: 0.2298 - val_iou_score: 0.7265 - val_f1-score: 0.8098\n",
      "Epoch 37/50\n",
      "57/57 [==============================] - 75s 1s/step - loss: 0.1998 - iou_score: 0.7739 - f1-score: 0.8510 - val_loss: 0.2249 - val_iou_score: 0.7311 - val_f1-score: 0.8137\n",
      "Epoch 38/50\n",
      "57/57 [==============================] - 76s 1s/step - loss: 0.1956 - iou_score: 0.7805 - f1-score: 0.8549 - val_loss: 0.2327 - val_iou_score: 0.7226 - val_f1-score: 0.8072\n",
      "Epoch 39/50\n",
      "57/57 [==============================] - 76s 1s/step - loss: 0.1838 - iou_score: 0.7840 - f1-score: 0.8602 - val_loss: 0.2275 - val_iou_score: 0.7280 - val_f1-score: 0.8118\n",
      "Epoch 40/50\n",
      "57/57 [==============================] - 76s 1s/step - loss: 0.1783 - iou_score: 0.7859 - f1-score: 0.8617 - val_loss: 0.2241 - val_iou_score: 0.7301 - val_f1-score: 0.8129\n",
      "Epoch 41/50\n",
      "57/57 [==============================] - 76s 1s/step - loss: 0.1867 - iou_score: 0.7822 - f1-score: 0.8568 - val_loss: 0.2206 - val_iou_score: 0.7339 - val_f1-score: 0.8158\n",
      "Epoch 42/50\n",
      "57/57 [==============================] - 75s 1s/step - loss: 0.1839 - iou_score: 0.7938 - f1-score: 0.8656 - val_loss: 0.2218 - val_iou_score: 0.7315 - val_f1-score: 0.8146\n",
      "Epoch 43/50\n",
      "57/57 [==============================] - 75s 1s/step - loss: 0.1814 - iou_score: 0.7904 - f1-score: 0.8655 - val_loss: 0.2204 - val_iou_score: 0.7359 - val_f1-score: 0.8180\n",
      "Epoch 44/50\n",
      "57/57 [==============================] - 78s 1s/step - loss: 0.1841 - iou_score: 0.7841 - f1-score: 0.8565 - val_loss: 0.2190 - val_iou_score: 0.7359 - val_f1-score: 0.8179\n",
      "Epoch 45/50\n",
      "57/57 [==============================] - 76s 1s/step - loss: 0.1804 - iou_score: 0.7908 - f1-score: 0.8632 - val_loss: 0.2214 - val_iou_score: 0.7328 - val_f1-score: 0.8154\n",
      "Epoch 46/50\n",
      "57/57 [==============================] - 76s 1s/step - loss: 0.1715 - iou_score: 0.7957 - f1-score: 0.8701 - val_loss: 0.2166 - val_iou_score: 0.7429 - val_f1-score: 0.8236\n",
      "Epoch 47/50\n",
      "57/57 [==============================] - 77s 1s/step - loss: 0.1658 - iou_score: 0.8002 - f1-score: 0.8724 - val_loss: 0.2206 - val_iou_score: 0.7329 - val_f1-score: 0.8156\n",
      "Epoch 48/50\n",
      "57/57 [==============================] - 77s 1s/step - loss: 0.1721 - iou_score: 0.7921 - f1-score: 0.8648 - val_loss: 0.2172 - val_iou_score: 0.7371 - val_f1-score: 0.8187\n",
      "Epoch 49/50\n",
      "57/57 [==============================] - 78s 1s/step - loss: 0.1664 - iou_score: 0.7997 - f1-score: 0.8700 - val_loss: 0.2199 - val_iou_score: 0.7337 - val_f1-score: 0.8164\n",
      "Epoch 50/50\n",
      "57/57 [==============================] - 77s 1s/step - loss: 0.1653 - iou_score: 0.8006 - f1-score: 0.8704 - val_loss: 0.2175 - val_iou_score: 0.7373 - val_f1-score: 0.8190\n"
     ]
    }
   ],
   "source": [
    "history3=model3.fit(X_train3, \n",
    "          y_train_cat,\n",
    "          batch_size=8, \n",
    "          epochs=50,\n",
    "          verbose=1,\n",
    "          validation_data=(X_test3, y_test_cat))"
   ]
  },
  {
   "cell_type": "code",
   "execution_count": 18,
   "metadata": {},
   "outputs": [],
   "source": [
    "model3.save('vgg16_backbone_50epochs_selfdrivingcars.hdf5')"
   ]
  },
  {
   "cell_type": "code",
   "execution_count": 19,
   "metadata": {},
   "outputs": [
    {
     "data": {
      "image/png": "[encoded data removed]",
      "text/plain": [
       "<Figure size 432x288 with 1 Axes>"
      ]
     },
     "metadata": {
      "needs_background": "light"
     },
     "output_type": "display_data"
    },
    {
     "data": {
      "image/png": "[encoded data removed]",
      "text/plain": [
       "<Figure size 432x288 with 1 Axes>"
      ]
     },
     "metadata": {
      "needs_background": "light"
     },
     "output_type": "display_data"
    }
   ],
   "source": [
    "#Plot the training and validation accuracy and loss at each epoch\n",
    "loss = history3.history['loss']\n",
    "val_loss = history3.history['val_loss']\n",
    "epochs = range(1, len(loss) + 1)\n",
    "plt.plot(epochs, loss, 'y', label='Training loss')\n",
    "plt.plot(epochs, val_loss, 'r', label='Validation loss')\n",
    "plt.title('Training and validation loss')\n",
    "plt.xlabel('Epochs')\n",
    "plt.ylabel('Loss')\n",
    "plt.legend()\n",
    "plt.show()\n",
    "\n",
    "acc = history3.history['iou_score']\n",
    "val_acc = history3.history['val_iou_score']\n",
    "\n",
    "plt.plot(epochs, acc, 'y', label='Training IOU')\n",
    "plt.plot(epochs, val_acc, 'r', label='Validation IOU')\n",
    "plt.title('Training and validation IOU')\n",
    "plt.xlabel('Epochs')\n",
    "plt.ylabel('IOU')\n",
    "plt.legend()\n",
    "plt.show()"
   ]
  },
  {
   "cell_type": "code",
   "execution_count": 16,
   "metadata": {},
   "outputs": [],
   "source": [
    "from keras.models import load_model\n",
    "\n",
    "#Set compile=False as we are not loading it for training, only for prediction.\n",
    "model3 = load_model('vgg16_backbone_50epochs_selfdrivingcars.hdf5', compile=False)"
   ]
  },
  {
   "cell_type": "code",
   "execution_count": 17,
   "metadata": {},
   "outputs": [],
   "source": [
    "#IOU\n",
    "y_pred3=model3.predict(X_test3)\n",
    "y_pred3_argmax=np.argmax(y_pred3, axis=3)"
   ]
  },
  {
   "cell_type": "code",
   "execution_count": 18,
   "metadata": {},
   "outputs": [
    {
     "name": "stdout",
     "output_type": "stream",
     "text": [
      "Mean IoU = 0.75428253\n"
     ]
    }
   ],
   "source": [
    "n_classes = 5\n",
    "IOU_keras = MeanIoU(num_classes=n_classes)  \n",
    "IOU_keras.update_state(y_test[:,:,:,0], y_pred3_argmax)\n",
    "print(\"Mean IoU =\", IOU_keras.result().numpy())"
   ]
  },
  {
   "cell_type": "code",
   "execution_count": 19,
   "metadata": {},
   "outputs": [
    {
     "name": "stdout",
     "output_type": "stream",
     "text": [
      "[[5.96941e+05 1.72750e+04 3.03300e+03 2.76800e+03 0.00000e+00]\n",
      " [1.00530e+04 4.24900e+04 9.94400e+03 4.49500e+03 0.00000e+00]\n",
      " [2.58600e+03 1.76690e+04 4.80123e+05 2.60480e+04 0.00000e+00]\n",
      " [1.84100e+03 5.03000e+03 1.66270e+04 4.00862e+05 5.00000e+00]\n",
      " [6.80000e+01 9.00000e+00 4.60000e+01 6.00000e+01 4.27000e+02]]\n"
     ]
    }
   ],
   "source": [
    "#To calculate I0U for each class...\n",
    "values = np.array(IOU_keras.get_weights()).reshape(n_classes, n_classes)\n",
    "print(values)"
   ]
  },
  {
   "cell_type": "code",
   "execution_count": 20,
   "metadata": {},
   "outputs": [],
   "source": [
    "class1_IoU = values[0,0]/(values[0,0] + values[0,1] + values[0,2] + values[0,3] + values[0,4] + values[1,0]+ values[2,0]+ values[3,0] + values[4,0])\n",
    "class2_IoU = values[1,1]/(values[1,1] + values[1,0] + values[1,2] + values[1,3] + values[1,4] + values[0,1]+ values[2,1]+ values[3,1] + values[4,1])\n",
    "class3_IoU = values[2,2]/(values[2,2] + values[2,0] + values[2,1] + values[2,3] + values[2,4] + values[0,2]+ values[1,2]+ values[3,2] + values[4,2])\n",
    "class4_IoU = values[3,3]/(values[3,3] + values[3,0] + values[3,1] + values[3,2] + values[3,4] + values[0,3]+ values[1,3]+ values[2,3] + values[4,3])\n",
    "class5_IoU = values[4,4]/(values[4,4] + values[4,0] + values[4,1] + values[4,2] + values[4,3] + values[0,4]+ values[1,4]+ values[2,4] + values[3,4])"
   ]
  },
  {
   "cell_type": "code",
   "execution_count": 21,
   "metadata": {},
   "outputs": [
    {
     "name": "stdout",
     "output_type": "stream",
     "text": [
      "IoU for class1 is:  0.940709\n",
      "IoU for class2 is:  0.39723274\n",
      "IoU for class3 is:  0.86341256\n",
      "IoU for class4 is:  0.87574935\n",
      "IoU for class5 is:  0.69430894\n"
     ]
    }
   ],
   "source": [
    "print(\"IoU for class1 is: \", class1_IoU)\n",
    "print(\"IoU for class2 is: \", class2_IoU)\n",
    "print(\"IoU for class3 is: \", class3_IoU)\n",
    "print(\"IoU for class4 is: \", class4_IoU)\n",
    "print(\"IoU for class5 is: \", class5_IoU)"
   ]
  },
  {
   "cell_type": "code",
   "execution_count": 22,
   "metadata": {},
   "outputs": [
    {
     "data": {
      "text/plain": [
       "<matplotlib.image.AxesImage at 0x190624f1eb0>"
      ]
     },
     "execution_count": 22,
     "metadata": {},
     "output_type": "execute_result"
    },
    {
     "data": {
      "image/png": "[encoded data removed]",
      "text/plain": [
       "<Figure size 432x288 with 1 Axes>"
      ]
     },
     "metadata": {
      "needs_background": "light"
     },
     "output_type": "display_data"
    }
   ],
   "source": [
    "#Vaerify the prediction on first image\n",
    "plt.imshow(train_images[0, :,:,0], cmap='gray')"
   ]
  },
  {
   "cell_type": "code",
   "execution_count": 23,
   "metadata": {},
   "outputs": [
    {
     "data": {
      "text/plain": [
       "<matplotlib.image.AxesImage at 0x19062588af0>"
      ]
     },
     "execution_count": 23,
     "metadata": {},
     "output_type": "execute_result"
    },
    {
     "data": {
      "image/png": "[encoded data removed]",
      "text/plain": [
       "<Figure size 432x288 with 1 Axes>"
      ]
     },
     "metadata": {
      "needs_background": "light"
     },
     "output_type": "display_data"
    }
   ],
   "source": [
    "plt.imshow(train_masks[0], cmap='gray')"
   ]
  },
  {
   "cell_type": "code",
   "execution_count": null,
   "metadata": {},
   "outputs": [],
   "source": [
    "#Test some random images\n",
    "import random\n",
    "test_img_number = random.randint(0, len(X_test3))\n",
    "test_img = X_test3[test_img_number]\n",
    "ground_truth=y_test[test_img_number]\n",
    "test_img_input=np.expand_dims(test_img, 0)\n",
    "\n",
    "test_img_input3 = preprocess_input3(test_img_input)\n",
    "\n",
    "test_pred3 = model3.predict(test_img_input3)\n",
    "test_prediction3 = np.argmax(test_pred3, axis=3)[0,:,:]\n",
    "\n",
    "\n",
    "plt.figure(figsize=(12, 8))\n",
    "plt.subplot(231)\n",
    "plt.title('Testing Image')\n",
    "plt.imshow(test_img[:,:,0], cmap='gray')\n",
    "plt.subplot(232)\n",
    "plt.title('Testing Label')\n",
    "plt.imshow(ground_truth[:,:,0], cmap='jet')\n",
    "plt.subplot(233)\n",
    "plt.title('Prediction on test image')\n",
    "plt.imshow(test_prediction3, cmap='jet')\n",
    "plt.show()"
   ]
  }
 ],
 "metadata": {
  "kernelspec": {
   "display_name": "Python 3",
   "language": "python",
   "name": "python3"
  },
  "language_info": {
   "codemirror_mode": {
    "name": "ipython",
    "version": 3
   },
   "file_extension": ".py",
   "mimetype": "text/x-python",
   "name": "python",
   "nbconvert_exporter": "python",
   "pygments_lexer": "ipython3",
   "version": "3.8.3"
  }
 },
 "nbformat": 4,
 "nbformat_minor": 4
}
