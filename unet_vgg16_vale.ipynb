{
 "cells": [
  {
   "cell_type": "code",
   "execution_count": 1,
   "metadata": {},
   "outputs": [
    {
     "name": "stdout",
     "output_type": "stream",
     "text": [
      "env: SM_FRAMEWORK=tf.keras\n"
     ]
    }
   ],
   "source": [
    "%env SM_FRAMEWORK=tf.keras"
   ]
  },
  {
   "cell_type": "code",
   "execution_count": 2,
   "metadata": {},
   "outputs": [
    {
     "name": "stdout",
     "output_type": "stream",
     "text": [
      "Segmentation Models: using `tf.keras` framework.\n"
     ]
    }
   ],
   "source": [
    "import tensorflow as tf\n",
    "import segmentation_models as sm\n",
    "import glob\n",
    "import cv2\n",
    "import os\n",
    "import numpy as np\n",
    "from matplotlib import pyplot as plt\n",
    "import keras "
   ]
  },
  {
   "cell_type": "code",
   "execution_count": 3,
   "metadata": {},
   "outputs": [],
   "source": [
    "#from keras.utils import normalize\n",
    "from keras.utils.np_utils import normalize\n",
    "from keras.metrics import MeanIoU"
   ]
  },
  {
   "cell_type": "code",
   "execution_count": 4,
   "metadata": {},
   "outputs": [],
   "source": [
    "#Resizing images, if needed\n",
    "SIZE_X = 128 \n",
    "SIZE_Y = 128\n",
    "#n_classes=4"
   ]
  },
  {
   "cell_type": "code",
   "execution_count": 5,
   "metadata": {},
   "outputs": [],
   "source": [
    "#Capture training image info as a list\n",
    "train_images = []\n",
    "\n",
    "for directory_path in glob.glob(\"vale_data/Images_128/\"):\n",
    "    for img_path in glob.glob(os.path.join(directory_path, \"*.tiff\")):\n",
    "        img = cv2.imread(img_path, 1)       \n",
    "        train_images.append(img)\n",
    "       \n",
    "#Convert list to array for machine learning processing        \n",
    "train_images = np.array(train_images)"
   ]
  },
  {
   "cell_type": "code",
   "execution_count": 6,
   "metadata": {},
   "outputs": [],
   "source": [
    "#Capture mask/label info as a list\n",
    "train_masks = [] \n",
    "for directory_path in glob.glob(\"vale_data/Masks_128/\"):\n",
    "    for mask_path in glob.glob(os.path.join(directory_path, \"*.tiff\")):\n",
    "        mask = cv2.imread(mask_path, 0)       \n",
    "        train_masks.append(mask)\n",
    "        \n",
    "#Convert list to array for machine learning processing          \n",
    "train_masks = np.array(train_masks)"
   ]
  },
  {
   "cell_type": "code",
   "execution_count": 7,
   "metadata": {},
   "outputs": [
    {
     "name": "stderr",
     "output_type": "stream",
     "text": [
      "C:\\Users\\user\\anaconda3\\lib\\site-packages\\sklearn\\utils\\validation.py:73: DataConversionWarning: A column-vector y was passed when a 1d array was expected. Please change the shape of y to (n_samples, ), for example using ravel().\n",
      "  return f(**kwargs)\n"
     ]
    },
    {
     "data": {
      "text/plain": [
       "array([0, 1, 2, 3], dtype=int64)"
      ]
     },
     "execution_count": 7,
     "metadata": {},
     "output_type": "execute_result"
    }
   ],
   "source": [
    "#Encode labels... but multi dim array so need to flatten, encode and reshape\n",
    "from sklearn.preprocessing import LabelEncoder\n",
    "labelencoder = LabelEncoder()\n",
    "n, h, w = train_masks.shape\n",
    "train_masks_reshaped = train_masks.reshape(-1,1)\n",
    "train_masks_reshaped_encoded = labelencoder.fit_transform(train_masks_reshaped)\n",
    "train_masks_encoded_original_shape = train_masks_reshaped_encoded.reshape(n, h, w)\n",
    "\n",
    "np.unique(train_masks_encoded_original_shape)"
   ]
  },
  {
   "cell_type": "code",
   "execution_count": 8,
   "metadata": {},
   "outputs": [],
   "source": [
    "train_masks_input = np.expand_dims(train_masks_encoded_original_shape, axis=3)"
   ]
  },
  {
   "cell_type": "code",
   "execution_count": 9,
   "metadata": {},
   "outputs": [
    {
     "name": "stdout",
     "output_type": "stream",
     "text": [
      "Class values in the dataset are ...  [0 1 2 3]\n"
     ]
    }
   ],
   "source": [
    "#Picking 10% for testing and remaining for training\n",
    "from sklearn.model_selection import train_test_split\n",
    "X1, X_test, y1, y_test = train_test_split(train_images, train_masks_input, test_size = 0.10, random_state = 0)\n",
    "\n",
    "#Further split training data t a smaller subset for quick testing\n",
    "X_train, X_do_not_use, y_train, y_do_not_use = train_test_split(X1, y1, test_size = 0.5, random_state = 0)\n",
    "\n",
    "print(\"Class values in the dataset are ... \", np.unique(y_train))  # 0 is the background/few unlabeled "
   ]
  },
  {
   "cell_type": "code",
   "execution_count": 10,
   "metadata": {},
   "outputs": [],
   "source": [
    "from keras.utils.np_utils import to_categorical\n",
    "\n",
    "n_classes=4\n",
    "\n",
    "train_masks_cat = to_categorical(y_train, num_classes=n_classes)\n",
    "y_train_cat = train_masks_cat.reshape((y_train.shape[0], y_train.shape[1], y_train.shape[2], n_classes))\n",
    "\n",
    "test_masks_cat = to_categorical(y_test, num_classes=n_classes)\n",
    "y_test_cat = test_masks_cat.reshape((y_test.shape[0], y_test.shape[1], y_test.shape[2], n_classes))"
   ]
  },
  {
   "cell_type": "code",
   "execution_count": 11,
   "metadata": {},
   "outputs": [],
   "source": [
    "#Reused parameters in all models\n",
    "\n",
    "n_classes=4\n",
    "activation='softmax'\n",
    "\n",
    "LR = 0.0001\n",
    "optim = tf.keras.optimizers.Adam(LR)\n",
    "\n",
    "#dice_loss = sm.losses.DiceLoss(class_weights=np.array([0.25, 0.25, 0.25, 0.25])) \n",
    "#focal_loss = sm.losses.CategoricalFocalLoss()\n",
    "#total_loss = dice_loss + (1 * focal_loss)\n",
    "\n",
    "#Total_loss can be imported directly from library\n",
    "total_loss = sm.losses.binary_focal_dice_loss \n",
    "\n",
    "metrics = [sm.metrics.IOUScore(threshold=0.5), sm.metrics.FScore(threshold=0.5)]"
   ]
  },
  {
   "cell_type": "code",
   "execution_count": 12,
   "metadata": {},
   "outputs": [],
   "source": [
    "#VGG16\n",
    "BACKBONE3 = 'vgg16'\n",
    "preprocess_input3 = sm.get_preprocessing(BACKBONE3)"
   ]
  },
  {
   "cell_type": "code",
   "execution_count": 13,
   "metadata": {},
   "outputs": [],
   "source": [
    "#Preprocess input\n",
    "X_train3 = preprocess_input3(X_train)\n",
    "X_test3 = preprocess_input3(X_test)"
   ]
  },
  {
   "cell_type": "code",
   "execution_count": 14,
   "metadata": {},
   "outputs": [],
   "source": [
    "#Define model\n",
    "model3 = sm.Unet(BACKBONE3, encoder_weights='imagenet', classes=n_classes, activation=activation)"
   ]
  },
  {
   "cell_type": "code",
   "execution_count": 15,
   "metadata": {},
   "outputs": [],
   "source": [
    "#Compile keras model with defined optimozer, loss and metrics\n",
    "model3.compile(optim, total_loss, metrics=metrics)"
   ]
  },
  {
   "cell_type": "code",
   "execution_count": 16,
   "metadata": {},
   "outputs": [
    {
     "name": "stdout",
     "output_type": "stream",
     "text": [
      "Model: \"model\"\n",
      "__________________________________________________________________________________________________\n",
      " Layer (type)                   Output Shape         Param #     Connected to                     \n",
      "==================================================================================================\n",
      " input_1 (InputLayer)           [(None, None, None,  0           []                               \n",
      "                                 3)]                                                              \n",
      "                                                                                                  \n",
      " block1_conv1 (Conv2D)          (None, None, None,   1792        ['input_1[0][0]']                \n",
      "                                64)                                                               \n",
      "                                                                                                  \n",
      " block1_conv2 (Conv2D)          (None, None, None,   36928       ['block1_conv1[0][0]']           \n",
      "                                64)                                                               \n",
      "                                                                                                  \n",
      " block1_pool (MaxPooling2D)     (None, None, None,   0           ['block1_conv2[0][0]']           \n",
      "                                64)                                                               \n",
      "                                                                                                  \n",
      " block2_conv1 (Conv2D)          (None, None, None,   73856       ['block1_pool[0][0]']            \n",
      "                                128)                                                              \n",
      "                                                                                                  \n",
      " block2_conv2 (Conv2D)          (None, None, None,   147584      ['block2_conv1[0][0]']           \n",
      "                                128)                                                              \n",
      "                                                                                                  \n",
      " block2_pool (MaxPooling2D)     (None, None, None,   0           ['block2_conv2[0][0]']           \n",
      "                                128)                                                              \n",
      "                                                                                                  \n",
      " block3_conv1 (Conv2D)          (None, None, None,   295168      ['block2_pool[0][0]']            \n",
      "                                256)                                                              \n",
      "                                                                                                  \n",
      " block3_conv2 (Conv2D)          (None, None, None,   590080      ['block3_conv1[0][0]']           \n",
      "                                256)                                                              \n",
      "                                                                                                  \n",
      " block3_conv3 (Conv2D)          (None, None, None,   590080      ['block3_conv2[0][0]']           \n",
      "                                256)                                                              \n",
      "                                                                                                  \n",
      " block3_pool (MaxPooling2D)     (None, None, None,   0           ['block3_conv3[0][0]']           \n",
      "                                256)                                                              \n",
      "                                                                                                  \n",
      " block4_conv1 (Conv2D)          (None, None, None,   1180160     ['block3_pool[0][0]']            \n",
      "                                512)                                                              \n",
      "                                                                                                  \n",
      " block4_conv2 (Conv2D)          (None, None, None,   2359808     ['block4_conv1[0][0]']           \n",
      "                                512)                                                              \n",
      "                                                                                                  \n",
      " block4_conv3 (Conv2D)          (None, None, None,   2359808     ['block4_conv2[0][0]']           \n",
      "                                512)                                                              \n",
      "                                                                                                  \n",
      " block4_pool (MaxPooling2D)     (None, None, None,   0           ['block4_conv3[0][0]']           \n",
      "                                512)                                                              \n",
      "                                                                                                  \n",
      " block5_conv1 (Conv2D)          (None, None, None,   2359808     ['block4_pool[0][0]']            \n",
      "                                512)                                                              \n",
      "                                                                                                  \n",
      " block5_conv2 (Conv2D)          (None, None, None,   2359808     ['block5_conv1[0][0]']           \n",
      "                                512)                                                              \n",
      "                                                                                                  \n",
      " block5_conv3 (Conv2D)          (None, None, None,   2359808     ['block5_conv2[0][0]']           \n",
      "                                512)                                                              \n",
      "                                                                                                  \n",
      " block5_pool (MaxPooling2D)     (None, None, None,   0           ['block5_conv3[0][0]']           \n",
      "                                512)                                                              \n",
      "                                                                                                  \n",
      " center_block1_conv (Conv2D)    (None, None, None,   2359296     ['block5_pool[0][0]']            \n",
      "                                512)                                                              \n",
      "                                                                                                  \n",
      " center_block1_bn (BatchNormali  (None, None, None,   2048       ['center_block1_conv[0][0]']     \n",
      " zation)                        512)                                                              \n",
      "                                                                                                  \n",
      " center_block1_relu (Activation  (None, None, None,   0          ['center_block1_bn[0][0]']       \n",
      " )                              512)                                                              \n",
      "                                                                                                  \n",
      " center_block2_conv (Conv2D)    (None, None, None,   2359296     ['center_block1_relu[0][0]']     \n",
      "                                512)                                                              \n",
      "                                                                                                  \n",
      " center_block2_bn (BatchNormali  (None, None, None,   2048       ['center_block2_conv[0][0]']     \n",
      " zation)                        512)                                                              \n",
      "                                                                                                  \n",
      " center_block2_relu (Activation  (None, None, None,   0          ['center_block2_bn[0][0]']       \n",
      " )                              512)                                                              \n",
      "                                                                                                  \n",
      " decoder_stage0_upsampling (UpS  (None, None, None,   0          ['center_block2_relu[0][0]']     \n",
      " ampling2D)                     512)                                                              \n",
      "                                                                                                  \n",
      " decoder_stage0_concat (Concate  (None, None, None,   0          ['decoder_stage0_upsampling[0][0]\n",
      " nate)                          1024)                            ',                               \n",
      "                                                                  'block5_conv3[0][0]']           \n",
      "                                                                                                  \n",
      " decoder_stage0a_conv (Conv2D)  (None, None, None,   2359296     ['decoder_stage0_concat[0][0]']  \n",
      "                                256)                                                              \n",
      "                                                                                                  \n",
      " decoder_stage0a_bn (BatchNorma  (None, None, None,   1024       ['decoder_stage0a_conv[0][0]']   \n",
      " lization)                      256)                                                              \n",
      "                                                                                                  \n",
      " decoder_stage0a_relu (Activati  (None, None, None,   0          ['decoder_stage0a_bn[0][0]']     \n",
      " on)                            256)                                                              \n",
      "                                                                                                  \n",
      " decoder_stage0b_conv (Conv2D)  (None, None, None,   589824      ['decoder_stage0a_relu[0][0]']   \n",
      "                                256)                                                              \n",
      "                                                                                                  \n",
      " decoder_stage0b_bn (BatchNorma  (None, None, None,   1024       ['decoder_stage0b_conv[0][0]']   \n",
      " lization)                      256)                                                              \n",
      "                                                                                                  \n",
      " decoder_stage0b_relu (Activati  (None, None, None,   0          ['decoder_stage0b_bn[0][0]']     \n",
      " on)                            256)                                                              \n",
      "                                                                                                  \n",
      " decoder_stage1_upsampling (UpS  (None, None, None,   0          ['decoder_stage0b_relu[0][0]']   \n",
      " ampling2D)                     256)                                                              \n",
      "                                                                                                  \n",
      " decoder_stage1_concat (Concate  (None, None, None,   0          ['decoder_stage1_upsampling[0][0]\n",
      " nate)                          768)                             ',                               \n",
      "                                                                  'block4_conv3[0][0]']           \n",
      "                                                                                                  \n",
      " decoder_stage1a_conv (Conv2D)  (None, None, None,   884736      ['decoder_stage1_concat[0][0]']  \n",
      "                                128)                                                              \n",
      "                                                                                                  \n",
      " decoder_stage1a_bn (BatchNorma  (None, None, None,   512        ['decoder_stage1a_conv[0][0]']   \n",
      " lization)                      128)                                                              \n",
      "                                                                                                  \n",
      " decoder_stage1a_relu (Activati  (None, None, None,   0          ['decoder_stage1a_bn[0][0]']     \n",
      " on)                            128)                                                              \n",
      "                                                                                                  \n",
      " decoder_stage1b_conv (Conv2D)  (None, None, None,   147456      ['decoder_stage1a_relu[0][0]']   \n",
      "                                128)                                                              \n",
      "                                                                                                  \n",
      " decoder_stage1b_bn (BatchNorma  (None, None, None,   512        ['decoder_stage1b_conv[0][0]']   \n",
      " lization)                      128)                                                              \n",
      "                                                                                                  \n",
      " decoder_stage1b_relu (Activati  (None, None, None,   0          ['decoder_stage1b_bn[0][0]']     \n",
      " on)                            128)                                                              \n",
      "                                                                                                  \n",
      " decoder_stage2_upsampling (UpS  (None, None, None,   0          ['decoder_stage1b_relu[0][0]']   \n",
      " ampling2D)                     128)                                                              \n",
      "                                                                                                  \n",
      " decoder_stage2_concat (Concate  (None, None, None,   0          ['decoder_stage2_upsampling[0][0]\n",
      " nate)                          384)                             ',                               \n",
      "                                                                  'block3_conv3[0][0]']           \n",
      "                                                                                                  \n",
      " decoder_stage2a_conv (Conv2D)  (None, None, None,   221184      ['decoder_stage2_concat[0][0]']  \n",
      "                                64)                                                               \n",
      "                                                                                                  \n",
      " decoder_stage2a_bn (BatchNorma  (None, None, None,   256        ['decoder_stage2a_conv[0][0]']   \n",
      " lization)                      64)                                                               \n",
      "                                                                                                  \n",
      " decoder_stage2a_relu (Activati  (None, None, None,   0          ['decoder_stage2a_bn[0][0]']     \n",
      " on)                            64)                                                               \n",
      "                                                                                                  \n",
      " decoder_stage2b_conv (Conv2D)  (None, None, None,   36864       ['decoder_stage2a_relu[0][0]']   \n",
      "                                64)                                                               \n",
      "                                                                                                  \n",
      " decoder_stage2b_bn (BatchNorma  (None, None, None,   256        ['decoder_stage2b_conv[0][0]']   \n",
      " lization)                      64)                                                               \n",
      "                                                                                                  \n",
      " decoder_stage2b_relu (Activati  (None, None, None,   0          ['decoder_stage2b_bn[0][0]']     \n",
      " on)                            64)                                                               \n",
      "                                                                                                  \n",
      " decoder_stage3_upsampling (UpS  (None, None, None,   0          ['decoder_stage2b_relu[0][0]']   \n",
      " ampling2D)                     64)                                                               \n",
      "                                                                                                  \n",
      " decoder_stage3_concat (Concate  (None, None, None,   0          ['decoder_stage3_upsampling[0][0]\n",
      " nate)                          192)                             ',                               \n",
      "                                                                  'block2_conv2[0][0]']           \n",
      "                                                                                                  \n",
      " decoder_stage3a_conv (Conv2D)  (None, None, None,   55296       ['decoder_stage3_concat[0][0]']  \n",
      "                                32)                                                               \n",
      "                                                                                                  \n",
      " decoder_stage3a_bn (BatchNorma  (None, None, None,   128        ['decoder_stage3a_conv[0][0]']   \n",
      " lization)                      32)                                                               \n",
      "                                                                                                  \n",
      " decoder_stage3a_relu (Activati  (None, None, None,   0          ['decoder_stage3a_bn[0][0]']     \n",
      " on)                            32)                                                               \n",
      "                                                                                                  \n",
      " decoder_stage3b_conv (Conv2D)  (None, None, None,   9216        ['decoder_stage3a_relu[0][0]']   \n",
      "                                32)                                                               \n",
      "                                                                                                  \n",
      " decoder_stage3b_bn (BatchNorma  (None, None, None,   128        ['decoder_stage3b_conv[0][0]']   \n",
      " lization)                      32)                                                               \n",
      "                                                                                                  \n",
      " decoder_stage3b_relu (Activati  (None, None, None,   0          ['decoder_stage3b_bn[0][0]']     \n",
      " on)                            32)                                                               \n",
      "                                                                                                  \n",
      " decoder_stage4_upsampling (UpS  (None, None, None,   0          ['decoder_stage3b_relu[0][0]']   \n",
      " ampling2D)                     32)                                                               \n",
      "                                                                                                  \n",
      " decoder_stage4a_conv (Conv2D)  (None, None, None,   4608        ['decoder_stage4_upsampling[0][0]\n",
      "                                16)                              ']                               \n",
      "                                                                                                  \n",
      " decoder_stage4a_bn (BatchNorma  (None, None, None,   64         ['decoder_stage4a_conv[0][0]']   \n",
      " lization)                      16)                                                               \n",
      "                                                                                                  \n",
      " decoder_stage4a_relu (Activati  (None, None, None,   0          ['decoder_stage4a_bn[0][0]']     \n",
      " on)                            16)                                                               \n",
      "                                                                                                  \n",
      " decoder_stage4b_conv (Conv2D)  (None, None, None,   2304        ['decoder_stage4a_relu[0][0]']   \n",
      "                                16)                                                               \n",
      "                                                                                                  \n",
      " decoder_stage4b_bn (BatchNorma  (None, None, None,   64         ['decoder_stage4b_conv[0][0]']   \n",
      " lization)                      16)                                                               \n",
      "                                                                                                  \n",
      " decoder_stage4b_relu (Activati  (None, None, None,   0          ['decoder_stage4b_bn[0][0]']     \n",
      " on)                            16)                                                               \n",
      "                                                                                                  \n",
      " final_conv (Conv2D)            (None, None, None,   580         ['decoder_stage4b_relu[0][0]']   \n",
      "                                4)                                                                \n",
      "                                                                                                  \n",
      " softmax (Activation)           (None, None, None,   0           ['final_conv[0][0]']             \n",
      "                                4)                                                                \n",
      "                                                                                                  \n",
      "==================================================================================================\n",
      "Total params: 23,752,708\n",
      "Trainable params: 23,748,676\n",
      "Non-trainable params: 4,032\n",
      "__________________________________________________________________________________________________\n",
      "None\n"
     ]
    }
   ],
   "source": [
    "print(model3.summary())"
   ]
  },
  {
   "cell_type": "code",
   "execution_count": 17,
   "metadata": {},
   "outputs": [
    {
     "name": "stdout",
     "output_type": "stream",
     "text": [
      "Epoch 1/50\n",
      "68/68 [==============================] - 93s 1s/step - loss: 0.6421 - iou_score: 0.3066 - f1-score: 0.4133 - val_loss: 0.7594 - val_iou_score: 0.1500 - val_f1-score: 0.2388\n",
      "Epoch 2/50\n",
      "68/68 [==============================] - 91s 1s/step - loss: 0.4473 - iou_score: 0.5726 - f1-score: 0.7088 - val_loss: 0.5666 - val_iou_score: 0.4262 - val_f1-score: 0.5766\n",
      "Epoch 3/50\n",
      "68/68 [==============================] - 92s 1s/step - loss: 0.3738 - iou_score: 0.6391 - f1-score: 0.7675 - val_loss: 0.3688 - val_iou_score: 0.6436 - val_f1-score: 0.7623\n",
      "Epoch 4/50\n",
      "68/68 [==============================] - 91s 1s/step - loss: 0.3241 - iou_score: 0.6836 - f1-score: 0.8014 - val_loss: 0.3378 - val_iou_score: 0.6533 - val_f1-score: 0.7797\n",
      "Epoch 5/50\n",
      "68/68 [==============================] - 90s 1s/step - loss: 0.2928 - iou_score: 0.7131 - f1-score: 0.8241 - val_loss: 0.3695 - val_iou_score: 0.6113 - val_f1-score: 0.7451\n",
      "Epoch 6/50\n",
      "68/68 [==============================] - 90s 1s/step - loss: 0.2603 - iou_score: 0.7409 - f1-score: 0.8438 - val_loss: 0.3403 - val_iou_score: 0.6407 - val_f1-score: 0.7691\n",
      "Epoch 7/50\n",
      "68/68 [==============================] - 90s 1s/step - loss: 0.2403 - iou_score: 0.7612 - f1-score: 0.8582 - val_loss: 0.3673 - val_iou_score: 0.6188 - val_f1-score: 0.7500\n",
      "Epoch 8/50\n",
      "68/68 [==============================] - 91s 1s/step - loss: 0.2137 - iou_score: 0.7850 - f1-score: 0.8743 - val_loss: 0.3311 - val_iou_score: 0.6556 - val_f1-score: 0.7816\n",
      "Epoch 9/50\n",
      "68/68 [==============================] - 90s 1s/step - loss: 0.1843 - iou_score: 0.8125 - f1-score: 0.8924 - val_loss: 0.2237 - val_iou_score: 0.7601 - val_f1-score: 0.8596\n",
      "Epoch 10/50\n",
      "68/68 [==============================] - 90s 1s/step - loss: 0.1742 - iou_score: 0.8232 - f1-score: 0.8994 - val_loss: 0.2222 - val_iou_score: 0.7645 - val_f1-score: 0.8626\n",
      "Epoch 11/50\n",
      "68/68 [==============================] - 90s 1s/step - loss: 0.1625 - iou_score: 0.8344 - f1-score: 0.9063 - val_loss: 0.1807 - val_iou_score: 0.8035 - val_f1-score: 0.8874\n",
      "Epoch 12/50\n",
      "68/68 [==============================] - 91s 1s/step - loss: 0.1498 - iou_score: 0.8451 - f1-score: 0.9131 - val_loss: 0.2028 - val_iou_score: 0.7838 - val_f1-score: 0.8753\n",
      "Epoch 13/50\n",
      "68/68 [==============================] - 90s 1s/step - loss: 0.1394 - iou_score: 0.8537 - f1-score: 0.9185 - val_loss: 0.1374 - val_iou_score: 0.8496 - val_f1-score: 0.9162\n",
      "Epoch 14/50\n",
      "68/68 [==============================] - 90s 1s/step - loss: 0.1303 - iou_score: 0.8617 - f1-score: 0.9225 - val_loss: 0.1292 - val_iou_score: 0.8574 - val_f1-score: 0.9207\n",
      "Epoch 15/50\n",
      "68/68 [==============================] - 90s 1s/step - loss: 0.1229 - iou_score: 0.8703 - f1-score: 0.9285 - val_loss: 0.1244 - val_iou_score: 0.8615 - val_f1-score: 0.9232\n",
      "Epoch 16/50\n",
      "68/68 [==============================] - 91s 1s/step - loss: 0.1178 - iou_score: 0.8741 - f1-score: 0.9302 - val_loss: 0.1201 - val_iou_score: 0.8679 - val_f1-score: 0.9270\n",
      "Epoch 17/50\n",
      "68/68 [==============================] - 91s 1s/step - loss: 0.1093 - iou_score: 0.8827 - f1-score: 0.9357 - val_loss: 0.1191 - val_iou_score: 0.8685 - val_f1-score: 0.9275\n",
      "Epoch 18/50\n",
      "68/68 [==============================] - 90s 1s/step - loss: 0.1016 - iou_score: 0.8896 - f1-score: 0.9396 - val_loss: 0.1206 - val_iou_score: 0.8666 - val_f1-score: 0.9265\n",
      "Epoch 19/50\n",
      "68/68 [==============================] - 91s 1s/step - loss: 0.1063 - iou_score: 0.8849 - f1-score: 0.9368 - val_loss: 0.1099 - val_iou_score: 0.8773 - val_f1-score: 0.9326\n",
      "Epoch 20/50\n",
      "68/68 [==============================] - 90s 1s/step - loss: 0.1052 - iou_score: 0.8864 - f1-score: 0.9377 - val_loss: 0.1182 - val_iou_score: 0.8697 - val_f1-score: 0.9284\n",
      "Epoch 21/50\n",
      "68/68 [==============================] - 90s 1s/step - loss: 0.0965 - iou_score: 0.8937 - f1-score: 0.9422 - val_loss: 0.1099 - val_iou_score: 0.8776 - val_f1-score: 0.9330\n",
      "Epoch 22/50\n",
      "68/68 [==============================] - 90s 1s/step - loss: 0.0967 - iou_score: 0.8944 - f1-score: 0.9425 - val_loss: 0.1211 - val_iou_score: 0.8667 - val_f1-score: 0.9263\n",
      "Epoch 23/50\n",
      "68/68 [==============================] - 90s 1s/step - loss: 0.0939 - iou_score: 0.8963 - f1-score: 0.9436 - val_loss: 0.1052 - val_iou_score: 0.8834 - val_f1-score: 0.9363\n",
      "Epoch 24/50\n",
      "68/68 [==============================] - 90s 1s/step - loss: 0.0877 - iou_score: 0.9031 - f1-score: 0.9477 - val_loss: 0.1032 - val_iou_score: 0.8847 - val_f1-score: 0.9370\n",
      "Epoch 25/50\n",
      "68/68 [==============================] - 92s 1s/step - loss: 0.0839 - iou_score: 0.9056 - f1-score: 0.9492 - val_loss: 0.1057 - val_iou_score: 0.8838 - val_f1-score: 0.9366\n",
      "Epoch 26/50\n",
      "68/68 [==============================] - 90s 1s/step - loss: 0.0892 - iou_score: 0.8973 - f1-score: 0.9421 - val_loss: 0.1219 - val_iou_score: 0.8658 - val_f1-score: 0.9255\n",
      "Epoch 27/50\n",
      "68/68 [==============================] - 90s 1s/step - loss: 0.0901 - iou_score: 0.8990 - f1-score: 0.9450 - val_loss: 0.1022 - val_iou_score: 0.8861 - val_f1-score: 0.9379\n",
      "Epoch 28/50\n",
      "68/68 [==============================] - 91s 1s/step - loss: 0.0832 - iou_score: 0.9062 - f1-score: 0.9492 - val_loss: 0.1072 - val_iou_score: 0.8819 - val_f1-score: 0.9355\n",
      "Epoch 29/50\n",
      "68/68 [==============================] - 91s 1s/step - loss: 0.0811 - iou_score: 0.9086 - f1-score: 0.9507 - val_loss: 0.1001 - val_iou_score: 0.8887 - val_f1-score: 0.9394\n",
      "Epoch 30/50\n",
      "68/68 [==============================] - 90s 1s/step - loss: 0.0768 - iou_score: 0.9118 - f1-score: 0.9525 - val_loss: 0.1008 - val_iou_score: 0.8887 - val_f1-score: 0.9395\n",
      "Epoch 31/50\n",
      "68/68 [==============================] - 90s 1s/step - loss: 0.0751 - iou_score: 0.9146 - f1-score: 0.9543 - val_loss: 0.1004 - val_iou_score: 0.8895 - val_f1-score: 0.9399\n",
      "Epoch 32/50\n",
      "68/68 [==============================] - 91s 1s/step - loss: 0.0754 - iou_score: 0.9128 - f1-score: 0.9533 - val_loss: 0.0972 - val_iou_score: 0.8915 - val_f1-score: 0.9411\n",
      "Epoch 33/50\n",
      "68/68 [==============================] - 91s 1s/step - loss: 0.0711 - iou_score: 0.9184 - f1-score: 0.9565 - val_loss: 0.0975 - val_iou_score: 0.8917 - val_f1-score: 0.9411\n",
      "Epoch 34/50\n",
      "68/68 [==============================] - 90s 1s/step - loss: 0.0673 - iou_score: 0.9223 - f1-score: 0.9586 - val_loss: 0.0968 - val_iou_score: 0.8930 - val_f1-score: 0.9419\n",
      "Epoch 35/50\n",
      "68/68 [==============================] - 90s 1s/step - loss: 0.0656 - iou_score: 0.9243 - f1-score: 0.9598 - val_loss: 0.0963 - val_iou_score: 0.8938 - val_f1-score: 0.9423\n",
      "Epoch 36/50\n",
      "68/68 [==============================] - 91s 1s/step - loss: 0.0673 - iou_score: 0.9227 - f1-score: 0.9590 - val_loss: 0.0965 - val_iou_score: 0.8936 - val_f1-score: 0.9423\n",
      "Epoch 37/50\n",
      "68/68 [==============================] - 90s 1s/step - loss: 0.0702 - iou_score: 0.9190 - f1-score: 0.9564 - val_loss: 0.0960 - val_iou_score: 0.8945 - val_f1-score: 0.9428\n",
      "Epoch 38/50\n",
      "68/68 [==============================] - 89s 1s/step - loss: 0.0685 - iou_score: 0.9209 - f1-score: 0.9578 - val_loss: 0.0982 - val_iou_score: 0.8921 - val_f1-score: 0.9413\n",
      "Epoch 39/50\n",
      "68/68 [==============================] - 90s 1s/step - loss: 0.0686 - iou_score: 0.9211 - f1-score: 0.9579 - val_loss: 0.0998 - val_iou_score: 0.8901 - val_f1-score: 0.9402\n",
      "Epoch 40/50\n",
      "68/68 [==============================] - 90s 1s/step - loss: 0.0641 - iou_score: 0.9251 - f1-score: 0.9603 - val_loss: 0.0961 - val_iou_score: 0.8941 - val_f1-score: 0.9425\n",
      "Epoch 41/50\n",
      "68/68 [==============================] - 90s 1s/step - loss: 0.0706 - iou_score: 0.9194 - f1-score: 0.9567 - val_loss: 0.0969 - val_iou_score: 0.8939 - val_f1-score: 0.9423\n",
      "Epoch 42/50\n",
      "68/68 [==============================] - 90s 1s/step - loss: 0.0614 - iou_score: 0.9278 - f1-score: 0.9617 - val_loss: 0.0969 - val_iou_score: 0.8947 - val_f1-score: 0.9429\n",
      "Epoch 43/50\n",
      "68/68 [==============================] - 90s 1s/step - loss: 0.0609 - iou_score: 0.9283 - f1-score: 0.9620 - val_loss: 0.1042 - val_iou_score: 0.8860 - val_f1-score: 0.9377\n",
      "Epoch 44/50\n",
      "68/68 [==============================] - 90s 1s/step - loss: 0.0594 - iou_score: 0.9297 - f1-score: 0.9628 - val_loss: 0.0937 - val_iou_score: 0.8975 - val_f1-score: 0.9445\n",
      "Epoch 45/50\n",
      "68/68 [==============================] - 91s 1s/step - loss: 0.0571 - iou_score: 0.9319 - f1-score: 0.9640 - val_loss: 0.0969 - val_iou_score: 0.8946 - val_f1-score: 0.9428\n",
      "Epoch 46/50\n",
      "68/68 [==============================] - 90s 1s/step - loss: 0.0557 - iou_score: 0.9335 - f1-score: 0.9649 - val_loss: 0.0944 - val_iou_score: 0.8968 - val_f1-score: 0.9441\n",
      "Epoch 47/50\n",
      "68/68 [==============================] - 90s 1s/step - loss: 0.0570 - iou_score: 0.9319 - f1-score: 0.9641 - val_loss: 0.1012 - val_iou_score: 0.8901 - val_f1-score: 0.9402\n",
      "Epoch 48/50\n",
      "68/68 [==============================] - 90s 1s/step - loss: 0.0539 - iou_score: 0.9354 - f1-score: 0.9660 - val_loss: 0.0964 - val_iou_score: 0.8960 - val_f1-score: 0.9437\n",
      "Epoch 49/50\n",
      "68/68 [==============================] - 91s 1s/step - loss: 0.0543 - iou_score: 0.9351 - f1-score: 0.9658 - val_loss: 0.0936 - val_iou_score: 0.8980 - val_f1-score: 0.9447\n",
      "Epoch 50/50\n",
      "68/68 [==============================] - 89s 1s/step - loss: 0.0517 - iou_score: 0.9377 - f1-score: 0.9673 - val_loss: 0.0934 - val_iou_score: 0.8981 - val_f1-score: 0.9448\n"
     ]
    }
   ],
   "source": [
    "history3=model3.fit(X_train3, \n",
    "          y_train_cat,\n",
    "          batch_size=8, \n",
    "          epochs=50,\n",
    "          verbose=1,\n",
    "          validation_data=(X_test3, y_test_cat))"
   ]
  },
  {
   "cell_type": "code",
   "execution_count": 18,
   "metadata": {},
   "outputs": [],
   "source": [
    "model3.save('vgg16_backbone_50epochs_vale.hdf5')"
   ]
  },
  {
   "cell_type": "code",
   "execution_count": 19,
   "metadata": {},
   "outputs": [
    {
     "data": {
      "image/png": "[encoded data removed]",
      "text/plain": [
       "<Figure size 432x288 with 1 Axes>"
      ]
     },
     "metadata": {
      "needs_background": "light"
     },
     "output_type": "display_data"
    },
    {
     "data": {
      "image/png": "[encoded data removed]",
      "text/plain": [
       "<Figure size 432x288 with 1 Axes>"
      ]
     },
     "metadata": {
      "needs_background": "light"
     },
     "output_type": "display_data"
    }
   ],
   "source": [
    "#Plot the training and validation accuracy and loss at each epoch\n",
    "loss = history3.history['loss']\n",
    "val_loss = history3.history['val_loss']\n",
    "epochs = range(1, len(loss) + 1)\n",
    "plt.plot(epochs, loss, 'y', label='Training loss')\n",
    "plt.plot(epochs, val_loss, 'r', label='Validation loss')\n",
    "plt.title('Training and validation loss')\n",
    "plt.xlabel('Epochs')\n",
    "plt.ylabel('Loss')\n",
    "plt.legend()\n",
    "plt.show()\n",
    "\n",
    "acc = history3.history['iou_score']\n",
    "val_acc = history3.history['val_iou_score']\n",
    "\n",
    "plt.plot(epochs, acc, 'y', label='Training IOU')\n",
    "plt.plot(epochs, val_acc, 'r', label='Validation IOU')\n",
    "plt.title('Training and validation IOU')\n",
    "plt.xlabel('Epochs')\n",
    "plt.ylabel('IOU')\n",
    "plt.legend()\n",
    "plt.show()"
   ]
  },
  {
   "cell_type": "code",
   "execution_count": 16,
   "metadata": {},
   "outputs": [],
   "source": [
    "from keras.models import load_model\n",
    "\n",
    "#Set compile=False as we are not loading it for training, only for prediction.\n",
    "model3 = load_model('vgg16_backbone_50epochs_vale.hdf5', compile=False)"
   ]
  },
  {
   "cell_type": "code",
   "execution_count": 17,
   "metadata": {},
   "outputs": [],
   "source": [
    "#IOU\n",
    "y_pred3=model3.predict(X_test3)\n",
    "y_pred3_argmax=np.argmax(y_pred3, axis=3)"
   ]
  },
  {
   "cell_type": "code",
   "execution_count": 18,
   "metadata": {},
   "outputs": [
    {
     "name": "stdout",
     "output_type": "stream",
     "text": [
      "Mean IoU = 0.90678614\n"
     ]
    }
   ],
   "source": [
    "n_classes = 4\n",
    "IOU_keras = MeanIoU(num_classes=n_classes)  \n",
    "IOU_keras.update_state(y_test[:,:,:,0], y_pred3_argmax)\n",
    "print(\"Mean IoU =\", IOU_keras.result().numpy())"
   ]
  },
  {
   "cell_type": "code",
   "execution_count": 19,
   "metadata": {},
   "outputs": [
    {
     "name": "stdout",
     "output_type": "stream",
     "text": [
      "[[8.32512e+05 4.99000e+02 4.56600e+03 2.03600e+03]\n",
      " [7.88600e+03 4.66132e+05 9.13200e+03 6.15600e+03]\n",
      " [7.96900e+03 1.07180e+04 2.54341e+05 1.05100e+04]\n",
      " [8.49100e+03 6.71600e+03 3.62200e+03 3.34794e+05]]\n"
     ]
    }
   ],
   "source": [
    "#To calculate I0U for each class...\n",
    "values = np.array(IOU_keras.get_weights()).reshape(n_classes, n_classes)\n",
    "print(values)"
   ]
  },
  {
   "cell_type": "code",
   "execution_count": 20,
   "metadata": {},
   "outputs": [],
   "source": [
    "class1_IoU = values[0,0]/(values[0,0] + values[0,1] + values[0,2] + values[0,3] + values[1,0]+ values[2,0]+ values[3,0])\n",
    "class2_IoU = values[1,1]/(values[1,1] + values[1,0] + values[1,2] + values[1,3] + values[0,1]+ values[2,1]+ values[3,1])\n",
    "class3_IoU = values[2,2]/(values[2,2] + values[2,0] + values[2,1] + values[2,3] + values[0,2]+ values[1,2]+ values[3,2])\n",
    "class4_IoU = values[3,3]/(values[3,3] + values[3,0] + values[3,1] + values[3,2] + values[0,3]+ values[1,3]+ values[2,3])"
   ]
  },
  {
   "cell_type": "code",
   "execution_count": 21,
   "metadata": {},
   "outputs": [
    {
     "name": "stdout",
     "output_type": "stream",
     "text": [
      "IoU for class1 is:  0.9636013\n",
      "IoU for class2 is:  0.9189593\n",
      "IoU for class3 is:  0.84538555\n",
      "IoU for class4 is:  0.8991983\n"
     ]
    }
   ],
   "source": [
    "print(\"IoU for class1 is: \", class1_IoU)\n",
    "print(\"IoU for class2 is: \", class2_IoU)\n",
    "print(\"IoU for class3 is: \", class3_IoU)\n",
    "print(\"IoU for class4 is: \", class4_IoU)"
   ]
  },
  {
   "cell_type": "code",
   "execution_count": 22,
   "metadata": {},
   "outputs": [
    {
     "data": {
      "text/plain": [
       "<matplotlib.image.AxesImage at 0x1a80029ef10>"
      ]
     },
     "execution_count": 22,
     "metadata": {},
     "output_type": "execute_result"
    },
    {
     "data": {
      "image/png": "[encoded data removed]",
      "text/plain": [
       "<Figure size 432x288 with 1 Axes>"
      ]
     },
     "metadata": {
      "needs_background": "light"
     },
     "output_type": "display_data"
    }
   ],
   "source": [
    "#Vaerify the prediction on first image\n",
    "plt.imshow(train_images[0, :,:,0], cmap='gray')"
   ]
  },
  {
   "cell_type": "code",
   "execution_count": 23,
   "metadata": {},
   "outputs": [
    {
     "data": {
      "text/plain": [
       "<matplotlib.image.AxesImage at 0x1a80034f5e0>"
      ]
     },
     "execution_count": 23,
     "metadata": {},
     "output_type": "execute_result"
    },
    {
     "data": {
      "image/png": "[encoded data removed]",
      "text/plain": [
       "<Figure size 432x288 with 1 Axes>"
      ]
     },
     "metadata": {
      "needs_background": "light"
     },
     "output_type": "display_data"
    }
   ],
   "source": [
    "plt.imshow(train_masks[0], cmap='gray')"
   ]
  },
  {
   "cell_type": "code",
   "execution_count": null,
   "metadata": {},
   "outputs": [],
   "source": [
    "#Test some random images\n",
    "import random\n",
    "test_img_number = random.randint(0, len(X_test3))\n",
    "test_img = X_test3[test_img_number]\n",
    "ground_truth=y_test[test_img_number]\n",
    "test_img_input=np.expand_dims(test_img, 0)\n",
    "\n",
    "test_img_input3 = preprocess_input3(test_img_input)\n",
    "\n",
    "test_pred3 = model3.predict(test_img_input3)\n",
    "test_prediction3 = np.argmax(test_pred3, axis=3)[0,:,:]\n",
    "\n",
    "\n",
    "plt.figure(figsize=(12, 8))\n",
    "plt.subplot(231)\n",
    "plt.title('Testing Image')\n",
    "plt.imshow(test_img[:,:,0], cmap='gray')\n",
    "plt.subplot(232)\n",
    "plt.title('Testing Label')\n",
    "plt.imshow(ground_truth[:,:,0], cmap='jet')\n",
    "plt.subplot(233)\n",
    "plt.title('Prediction on test image')\n",
    "plt.imshow(test_prediction3, cmap='jet')\n",
    "plt.show()"
   ]
  }
 ],
 "metadata": {
  "kernelspec": {
   "display_name": "Python 3",
   "language": "python",
   "name": "python3"
  },
  "language_info": {
   "codemirror_mode": {
    "name": "ipython",
    "version": 3
   },
   "file_extension": ".py",
   "mimetype": "text/x-python",
   "name": "python",
   "nbconvert_exporter": "python",
   "pygments_lexer": "ipython3",
   "version": "3.8.3"
  }
 },
 "nbformat": 4,
 "nbformat_minor": 4
}
