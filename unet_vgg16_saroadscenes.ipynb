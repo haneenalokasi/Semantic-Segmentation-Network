{
 "cells": [
  {
   "cell_type": "code",
   "execution_count": 1,
   "metadata": {},
   "outputs": [
    {
     "name": "stdout",
     "output_type": "stream",
     "text": [
      "env: SM_FRAMEWORK=tf.keras\n"
     ]
    }
   ],
   "source": [
    "%env SM_FRAMEWORK=tf.keras"
   ]
  },
  {
   "cell_type": "code",
   "execution_count": 2,
   "metadata": {},
   "outputs": [
    {
     "name": "stdout",
     "output_type": "stream",
     "text": [
      "Segmentation Models: using `tf.keras` framework.\n"
     ]
    }
   ],
   "source": [
    "import tensorflow as tf\n",
    "import segmentation_models as sm\n",
    "import glob\n",
    "import cv2\n",
    "import os\n",
    "import numpy as np\n",
    "from matplotlib import pyplot as plt\n",
    "import keras "
   ]
  },
  {
   "cell_type": "code",
   "execution_count": 3,
   "metadata": {},
   "outputs": [],
   "source": [
    "#from keras.utils import normalize\n",
    "from keras.utils.np_utils import normalize\n",
    "from keras.metrics import MeanIoU"
   ]
  },
  {
   "cell_type": "code",
   "execution_count": 4,
   "metadata": {},
   "outputs": [],
   "source": [
    "#Resizing images, if needed\n",
    "SIZE_X = 128 \n",
    "SIZE_Y = 128\n",
    "#n_classes=5"
   ]
  },
  {
   "cell_type": "code",
   "execution_count": 5,
   "metadata": {},
   "outputs": [],
   "source": [
    "#Capture training image info as a list\n",
    "train_images = []\n",
    "\n",
    "for directory_path in glob.glob(\"saroadscenes_data/Images_128\"):\n",
    "    for img_path in glob.glob(os.path.join(directory_path, \"*.tiff\")):\n",
    "        img = cv2.imread(img_path, 1)       \n",
    "        train_images.append(img)\n",
    "       \n",
    "#Convert list to array for machine learning processing        \n",
    "train_images = np.array(train_images)"
   ]
  },
  {
   "cell_type": "code",
   "execution_count": 6,
   "metadata": {},
   "outputs": [],
   "source": [
    "#Capture mask/label info as a list\n",
    "train_masks = [] \n",
    "for directory_path in glob.glob(\"saroadscenes_data/Masks_128\"):\n",
    "    for mask_path in glob.glob(os.path.join(directory_path, \"*.tiff\")):\n",
    "        mask = cv2.imread(mask_path, 0)       \n",
    "        train_masks.append(mask)\n",
    "        \n",
    "#Convert list to array for machine learning processing          \n",
    "train_masks = np.array(train_masks)"
   ]
  },
  {
   "cell_type": "code",
   "execution_count": 7,
   "metadata": {},
   "outputs": [
    {
     "name": "stderr",
     "output_type": "stream",
     "text": [
      "C:\\Users\\user\\anaconda3\\lib\\site-packages\\sklearn\\utils\\validation.py:73: DataConversionWarning: A column-vector y was passed when a 1d array was expected. Please change the shape of y to (n_samples, ), for example using ravel().\n",
      "  return f(**kwargs)\n"
     ]
    },
    {
     "data": {
      "text/plain": [
       "array([0, 1, 2, 3, 4, 5], dtype=int64)"
      ]
     },
     "execution_count": 7,
     "metadata": {},
     "output_type": "execute_result"
    }
   ],
   "source": [
    "#Encode labels... but multi dim array so need to flatten, encode and reshape\n",
    "from sklearn.preprocessing import LabelEncoder\n",
    "labelencoder = LabelEncoder()\n",
    "n, h, w = train_masks.shape\n",
    "train_masks_reshaped = train_masks.reshape(-1,1)\n",
    "train_masks_reshaped_encoded = labelencoder.fit_transform(train_masks_reshaped)\n",
    "train_masks_encoded_original_shape = train_masks_reshaped_encoded.reshape(n, h, w)\n",
    "\n",
    "np.unique(train_masks_encoded_original_shape)"
   ]
  },
  {
   "cell_type": "code",
   "execution_count": 8,
   "metadata": {},
   "outputs": [],
   "source": [
    "train_masks_input = np.expand_dims(train_masks_encoded_original_shape, axis=3)"
   ]
  },
  {
   "cell_type": "code",
   "execution_count": 9,
   "metadata": {},
   "outputs": [
    {
     "name": "stdout",
     "output_type": "stream",
     "text": [
      "Class values in the dataset are ...  [0 1 2 3 4 5]\n"
     ]
    }
   ],
   "source": [
    "#Picking 10% for testing and remaining for training\n",
    "from sklearn.model_selection import train_test_split\n",
    "X1, X_test, y1, y_test = train_test_split(train_images, train_masks_input, test_size = 0.10, random_state = 0)\n",
    "\n",
    "#Further split training data t a smaller subset for quick testing\n",
    "X_train, X_do_not_use, y_train, y_do_not_use = train_test_split(X1, y1, test_size = 0.5, random_state = 0)\n",
    "\n",
    "print(\"Class values in the dataset are ... \", np.unique(y_train))  # 0 is the background/few unlabeled "
   ]
  },
  {
   "cell_type": "code",
   "execution_count": 10,
   "metadata": {},
   "outputs": [],
   "source": [
    "from keras.utils.np_utils import to_categorical\n",
    "\n",
    "n_classes=6\n",
    "\n",
    "train_masks_cat = to_categorical(y_train, num_classes=n_classes)\n",
    "y_train_cat = train_masks_cat.reshape((y_train.shape[0], y_train.shape[1], y_train.shape[2], n_classes))\n",
    "\n",
    "test_masks_cat = to_categorical(y_test, num_classes=n_classes)\n",
    "y_test_cat = test_masks_cat.reshape((y_test.shape[0], y_test.shape[1], y_test.shape[2], n_classes))"
   ]
  },
  {
   "cell_type": "code",
   "execution_count": 11,
   "metadata": {},
   "outputs": [],
   "source": [
    "#Reused parameters in all models\n",
    "\n",
    "n_classes=6\n",
    "activation='softmax'\n",
    "\n",
    "LR = 0.0001\n",
    "optim = tf.keras.optimizers.Adam(LR)\n",
    "\n",
    "#dice_loss = sm.losses.DiceLoss(class_weights=np.array([0.25, 0.25, 0.25, 0.25])) \n",
    "#focal_loss = sm.losses.CategoricalFocalLoss()\n",
    "#total_loss = dice_loss + (1 * focal_loss)\n",
    "\n",
    "#Total_loss can be imported directly from library\n",
    "total_loss = sm.losses.binary_focal_dice_loss \n",
    "\n",
    "metrics = [sm.metrics.IOUScore(threshold=0.5), sm.metrics.FScore(threshold=0.5)]\n"
   ]
  },
  {
   "cell_type": "code",
   "execution_count": 12,
   "metadata": {},
   "outputs": [],
   "source": [
    "#VGG-16\n",
    "BACKBONE3 = 'vgg16'\n",
    "preprocess_input3 = sm.get_preprocessing(BACKBONE3)"
   ]
  },
  {
   "cell_type": "code",
   "execution_count": 13,
   "metadata": {},
   "outputs": [],
   "source": [
    "#Preprocess input\n",
    "X_train3 = preprocess_input3(X_train)\n",
    "X_test3 = preprocess_input3(X_test)"
   ]
  },
  {
   "cell_type": "code",
   "execution_count": 14,
   "metadata": {},
   "outputs": [],
   "source": [
    "#Define model\n",
    "model3 = sm.Unet(BACKBONE3, encoder_weights='imagenet', classes=n_classes, activation=activation)"
   ]
  },
  {
   "cell_type": "code",
   "execution_count": 15,
   "metadata": {},
   "outputs": [],
   "source": [
    "#Compile keras model with defined optimozer, loss and metrics\n",
    "model3.compile(optim, total_loss, metrics=metrics)"
   ]
  },
  {
   "cell_type": "code",
   "execution_count": 16,
   "metadata": {},
   "outputs": [
    {
     "name": "stdout",
     "output_type": "stream",
     "text": [
      "Model: \"model\"\n",
      "__________________________________________________________________________________________________\n",
      " Layer (type)                   Output Shape         Param #     Connected to                     \n",
      "==================================================================================================\n",
      " input_1 (InputLayer)           [(None, None, None,  0           []                               \n",
      "                                 3)]                                                              \n",
      "                                                                                                  \n",
      " block1_conv1 (Conv2D)          (None, None, None,   1792        ['input_1[0][0]']                \n",
      "                                64)                                                               \n",
      "                                                                                                  \n",
      " block1_conv2 (Conv2D)          (None, None, None,   36928       ['block1_conv1[0][0]']           \n",
      "                                64)                                                               \n",
      "                                                                                                  \n",
      " block1_pool (MaxPooling2D)     (None, None, None,   0           ['block1_conv2[0][0]']           \n",
      "                                64)                                                               \n",
      "                                                                                                  \n",
      " block2_conv1 (Conv2D)          (None, None, None,   73856       ['block1_pool[0][0]']            \n",
      "                                128)                                                              \n",
      "                                                                                                  \n",
      " block2_conv2 (Conv2D)          (None, None, None,   147584      ['block2_conv1[0][0]']           \n",
      "                                128)                                                              \n",
      "                                                                                                  \n",
      " block2_pool (MaxPooling2D)     (None, None, None,   0           ['block2_conv2[0][0]']           \n",
      "                                128)                                                              \n",
      "                                                                                                  \n",
      " block3_conv1 (Conv2D)          (None, None, None,   295168      ['block2_pool[0][0]']            \n",
      "                                256)                                                              \n",
      "                                                                                                  \n",
      " block3_conv2 (Conv2D)          (None, None, None,   590080      ['block3_conv1[0][0]']           \n",
      "                                256)                                                              \n",
      "                                                                                                  \n",
      " block3_conv3 (Conv2D)          (None, None, None,   590080      ['block3_conv2[0][0]']           \n",
      "                                256)                                                              \n",
      "                                                                                                  \n",
      " block3_pool (MaxPooling2D)     (None, None, None,   0           ['block3_conv3[0][0]']           \n",
      "                                256)                                                              \n",
      "                                                                                                  \n",
      " block4_conv1 (Conv2D)          (None, None, None,   1180160     ['block3_pool[0][0]']            \n",
      "                                512)                                                              \n",
      "                                                                                                  \n",
      " block4_conv2 (Conv2D)          (None, None, None,   2359808     ['block4_conv1[0][0]']           \n",
      "                                512)                                                              \n",
      "                                                                                                  \n",
      " block4_conv3 (Conv2D)          (None, None, None,   2359808     ['block4_conv2[0][0]']           \n",
      "                                512)                                                              \n",
      "                                                                                                  \n",
      " block4_pool (MaxPooling2D)     (None, None, None,   0           ['block4_conv3[0][0]']           \n",
      "                                512)                                                              \n",
      "                                                                                                  \n",
      " block5_conv1 (Conv2D)          (None, None, None,   2359808     ['block4_pool[0][0]']            \n",
      "                                512)                                                              \n",
      "                                                                                                  \n",
      " block5_conv2 (Conv2D)          (None, None, None,   2359808     ['block5_conv1[0][0]']           \n",
      "                                512)                                                              \n",
      "                                                                                                  \n",
      " block5_conv3 (Conv2D)          (None, None, None,   2359808     ['block5_conv2[0][0]']           \n",
      "                                512)                                                              \n",
      "                                                                                                  \n",
      " block5_pool (MaxPooling2D)     (None, None, None,   0           ['block5_conv3[0][0]']           \n",
      "                                512)                                                              \n",
      "                                                                                                  \n",
      " center_block1_conv (Conv2D)    (None, None, None,   2359296     ['block5_pool[0][0]']            \n",
      "                                512)                                                              \n",
      "                                                                                                  \n",
      " center_block1_bn (BatchNormali  (None, None, None,   2048       ['center_block1_conv[0][0]']     \n",
      " zation)                        512)                                                              \n",
      "                                                                                                  \n",
      " center_block1_relu (Activation  (None, None, None,   0          ['center_block1_bn[0][0]']       \n",
      " )                              512)                                                              \n",
      "                                                                                                  \n",
      " center_block2_conv (Conv2D)    (None, None, None,   2359296     ['center_block1_relu[0][0]']     \n",
      "                                512)                                                              \n",
      "                                                                                                  \n",
      " center_block2_bn (BatchNormali  (None, None, None,   2048       ['center_block2_conv[0][0]']     \n",
      " zation)                        512)                                                              \n",
      "                                                                                                  \n",
      " center_block2_relu (Activation  (None, None, None,   0          ['center_block2_bn[0][0]']       \n",
      " )                              512)                                                              \n",
      "                                                                                                  \n",
      " decoder_stage0_upsampling (UpS  (None, None, None,   0          ['center_block2_relu[0][0]']     \n",
      " ampling2D)                     512)                                                              \n",
      "                                                                                                  \n",
      " decoder_stage0_concat (Concate  (None, None, None,   0          ['decoder_stage0_upsampling[0][0]\n",
      " nate)                          1024)                            ',                               \n",
      "                                                                  'block5_conv3[0][0]']           \n",
      "                                                                                                  \n",
      " decoder_stage0a_conv (Conv2D)  (None, None, None,   2359296     ['decoder_stage0_concat[0][0]']  \n",
      "                                256)                                                              \n",
      "                                                                                                  \n",
      " decoder_stage0a_bn (BatchNorma  (None, None, None,   1024       ['decoder_stage0a_conv[0][0]']   \n",
      " lization)                      256)                                                              \n",
      "                                                                                                  \n",
      " decoder_stage0a_relu (Activati  (None, None, None,   0          ['decoder_stage0a_bn[0][0]']     \n",
      " on)                            256)                                                              \n",
      "                                                                                                  \n",
      " decoder_stage0b_conv (Conv2D)  (None, None, None,   589824      ['decoder_stage0a_relu[0][0]']   \n",
      "                                256)                                                              \n",
      "                                                                                                  \n",
      " decoder_stage0b_bn (BatchNorma  (None, None, None,   1024       ['decoder_stage0b_conv[0][0]']   \n",
      " lization)                      256)                                                              \n",
      "                                                                                                  \n",
      " decoder_stage0b_relu (Activati  (None, None, None,   0          ['decoder_stage0b_bn[0][0]']     \n",
      " on)                            256)                                                              \n",
      "                                                                                                  \n",
      " decoder_stage1_upsampling (UpS  (None, None, None,   0          ['decoder_stage0b_relu[0][0]']   \n",
      " ampling2D)                     256)                                                              \n",
      "                                                                                                  \n",
      " decoder_stage1_concat (Concate  (None, None, None,   0          ['decoder_stage1_upsampling[0][0]\n",
      " nate)                          768)                             ',                               \n",
      "                                                                  'block4_conv3[0][0]']           \n",
      "                                                                                                  \n",
      " decoder_stage1a_conv (Conv2D)  (None, None, None,   884736      ['decoder_stage1_concat[0][0]']  \n",
      "                                128)                                                              \n",
      "                                                                                                  \n",
      " decoder_stage1a_bn (BatchNorma  (None, None, None,   512        ['decoder_stage1a_conv[0][0]']   \n",
      " lization)                      128)                                                              \n",
      "                                                                                                  \n",
      " decoder_stage1a_relu (Activati  (None, None, None,   0          ['decoder_stage1a_bn[0][0]']     \n",
      " on)                            128)                                                              \n",
      "                                                                                                  \n",
      " decoder_stage1b_conv (Conv2D)  (None, None, None,   147456      ['decoder_stage1a_relu[0][0]']   \n",
      "                                128)                                                              \n",
      "                                                                                                  \n",
      " decoder_stage1b_bn (BatchNorma  (None, None, None,   512        ['decoder_stage1b_conv[0][0]']   \n",
      " lization)                      128)                                                              \n",
      "                                                                                                  \n",
      " decoder_stage1b_relu (Activati  (None, None, None,   0          ['decoder_stage1b_bn[0][0]']     \n",
      " on)                            128)                                                              \n",
      "                                                                                                  \n",
      " decoder_stage2_upsampling (UpS  (None, None, None,   0          ['decoder_stage1b_relu[0][0]']   \n",
      " ampling2D)                     128)                                                              \n",
      "                                                                                                  \n",
      " decoder_stage2_concat (Concate  (None, None, None,   0          ['decoder_stage2_upsampling[0][0]\n",
      " nate)                          384)                             ',                               \n",
      "                                                                  'block3_conv3[0][0]']           \n",
      "                                                                                                  \n",
      " decoder_stage2a_conv (Conv2D)  (None, None, None,   221184      ['decoder_stage2_concat[0][0]']  \n",
      "                                64)                                                               \n",
      "                                                                                                  \n",
      " decoder_stage2a_bn (BatchNorma  (None, None, None,   256        ['decoder_stage2a_conv[0][0]']   \n",
      " lization)                      64)                                                               \n",
      "                                                                                                  \n",
      " decoder_stage2a_relu (Activati  (None, None, None,   0          ['decoder_stage2a_bn[0][0]']     \n",
      " on)                            64)                                                               \n",
      "                                                                                                  \n",
      " decoder_stage2b_conv (Conv2D)  (None, None, None,   36864       ['decoder_stage2a_relu[0][0]']   \n",
      "                                64)                                                               \n",
      "                                                                                                  \n",
      " decoder_stage2b_bn (BatchNorma  (None, None, None,   256        ['decoder_stage2b_conv[0][0]']   \n",
      " lization)                      64)                                                               \n",
      "                                                                                                  \n",
      " decoder_stage2b_relu (Activati  (None, None, None,   0          ['decoder_stage2b_bn[0][0]']     \n",
      " on)                            64)                                                               \n",
      "                                                                                                  \n",
      " decoder_stage3_upsampling (UpS  (None, None, None,   0          ['decoder_stage2b_relu[0][0]']   \n",
      " ampling2D)                     64)                                                               \n",
      "                                                                                                  \n",
      " decoder_stage3_concat (Concate  (None, None, None,   0          ['decoder_stage3_upsampling[0][0]\n",
      " nate)                          192)                             ',                               \n",
      "                                                                  'block2_conv2[0][0]']           \n",
      "                                                                                                  \n",
      " decoder_stage3a_conv (Conv2D)  (None, None, None,   55296       ['decoder_stage3_concat[0][0]']  \n",
      "                                32)                                                               \n",
      "                                                                                                  \n",
      " decoder_stage3a_bn (BatchNorma  (None, None, None,   128        ['decoder_stage3a_conv[0][0]']   \n",
      " lization)                      32)                                                               \n",
      "                                                                                                  \n",
      " decoder_stage3a_relu (Activati  (None, None, None,   0          ['decoder_stage3a_bn[0][0]']     \n",
      " on)                            32)                                                               \n",
      "                                                                                                  \n",
      " decoder_stage3b_conv (Conv2D)  (None, None, None,   9216        ['decoder_stage3a_relu[0][0]']   \n",
      "                                32)                                                               \n",
      "                                                                                                  \n",
      " decoder_stage3b_bn (BatchNorma  (None, None, None,   128        ['decoder_stage3b_conv[0][0]']   \n",
      " lization)                      32)                                                               \n",
      "                                                                                                  \n",
      " decoder_stage3b_relu (Activati  (None, None, None,   0          ['decoder_stage3b_bn[0][0]']     \n",
      " on)                            32)                                                               \n",
      "                                                                                                  \n",
      " decoder_stage4_upsampling (UpS  (None, None, None,   0          ['decoder_stage3b_relu[0][0]']   \n",
      " ampling2D)                     32)                                                               \n",
      "                                                                                                  \n",
      " decoder_stage4a_conv (Conv2D)  (None, None, None,   4608        ['decoder_stage4_upsampling[0][0]\n",
      "                                16)                              ']                               \n",
      "                                                                                                  \n",
      " decoder_stage4a_bn (BatchNorma  (None, None, None,   64         ['decoder_stage4a_conv[0][0]']   \n",
      " lization)                      16)                                                               \n",
      "                                                                                                  \n",
      " decoder_stage4a_relu (Activati  (None, None, None,   0          ['decoder_stage4a_bn[0][0]']     \n",
      " on)                            16)                                                               \n",
      "                                                                                                  \n",
      " decoder_stage4b_conv (Conv2D)  (None, None, None,   2304        ['decoder_stage4a_relu[0][0]']   \n",
      "                                16)                                                               \n",
      "                                                                                                  \n",
      " decoder_stage4b_bn (BatchNorma  (None, None, None,   64         ['decoder_stage4b_conv[0][0]']   \n",
      " lization)                      16)                                                               \n",
      "                                                                                                  \n",
      " decoder_stage4b_relu (Activati  (None, None, None,   0          ['decoder_stage4b_bn[0][0]']     \n",
      " on)                            16)                                                               \n",
      "                                                                                                  \n",
      " final_conv (Conv2D)            (None, None, None,   870         ['decoder_stage4b_relu[0][0]']   \n",
      "                                6)                                                                \n",
      "                                                                                                  \n",
      " softmax (Activation)           (None, None, None,   0           ['final_conv[0][0]']             \n",
      "                                6)                                                                \n",
      "                                                                                                  \n",
      "==================================================================================================\n",
      "Total params: 23,752,998\n",
      "Trainable params: 23,748,966\n",
      "Non-trainable params: 4,032\n",
      "__________________________________________________________________________________________________\n",
      "None\n"
     ]
    }
   ],
   "source": [
    "print(model3.summary())"
   ]
  },
  {
   "cell_type": "code",
   "execution_count": 17,
   "metadata": {},
   "outputs": [
    {
     "name": "stdout",
     "output_type": "stream",
     "text": [
      "Epoch 1/50\n",
      "56/56 [==============================] - 78s 1s/step - loss: 0.8128 - iou_score: 0.1265 - f1-score: 0.1711 - val_loss: 0.8045 - val_iou_score: 0.1763 - val_f1-score: 0.2281\n",
      "Epoch 2/50\n",
      "56/56 [==============================] - 75s 1s/step - loss: 0.7329 - iou_score: 0.2024 - f1-score: 0.2566 - val_loss: 0.7450 - val_iou_score: 0.2119 - val_f1-score: 0.2542\n",
      "Epoch 3/50\n",
      "56/56 [==============================] - 76s 1s/step - loss: 0.6869 - iou_score: 0.2948 - f1-score: 0.3719 - val_loss: 0.6940 - val_iou_score: 0.2682 - val_f1-score: 0.3358\n",
      "Epoch 4/50\n",
      "56/56 [==============================] - 76s 1s/step - loss: 0.6520 - iou_score: 0.3283 - f1-score: 0.4115 - val_loss: 0.6357 - val_iou_score: 0.3328 - val_f1-score: 0.4068\n",
      "Epoch 5/50\n",
      "56/56 [==============================] - 75s 1s/step - loss: 0.6245 - iou_score: 0.3670 - f1-score: 0.4654 - val_loss: 0.6075 - val_iou_score: 0.3757 - val_f1-score: 0.4674\n",
      "Epoch 6/50\n",
      "56/56 [==============================] - 78s 1s/step - loss: 0.6031 - iou_score: 0.3932 - f1-score: 0.4952 - val_loss: 0.5920 - val_iou_score: 0.3945 - val_f1-score: 0.4917\n",
      "Epoch 7/50\n",
      "56/56 [==============================] - 77s 1s/step - loss: 0.5765 - iou_score: 0.4212 - f1-score: 0.5239 - val_loss: 0.5919 - val_iou_score: 0.3995 - val_f1-score: 0.4932\n",
      "Epoch 8/50\n",
      "56/56 [==============================] - 77s 1s/step - loss: 0.5674 - iou_score: 0.4277 - f1-score: 0.5304 - val_loss: 0.5863 - val_iou_score: 0.4149 - val_f1-score: 0.5134\n",
      "Epoch 9/50\n",
      "56/56 [==============================] - 79s 1s/step - loss: 0.5455 - iou_score: 0.4501 - f1-score: 0.5558 - val_loss: 0.5443 - val_iou_score: 0.4493 - val_f1-score: 0.5535\n",
      "Epoch 10/50\n",
      "56/56 [==============================] - 77s 1s/step - loss: 0.5281 - iou_score: 0.4720 - f1-score: 0.5827 - val_loss: 0.5659 - val_iou_score: 0.4285 - val_f1-score: 0.5292\n",
      "Epoch 11/50\n",
      "56/56 [==============================] - 77s 1s/step - loss: 0.5160 - iou_score: 0.4784 - f1-score: 0.5891 - val_loss: 0.5570 - val_iou_score: 0.4350 - val_f1-score: 0.5420\n",
      "Epoch 12/50\n",
      "56/56 [==============================] - 76s 1s/step - loss: 0.4976 - iou_score: 0.4987 - f1-score: 0.6089 - val_loss: 0.5486 - val_iou_score: 0.4448 - val_f1-score: 0.5501\n",
      "Epoch 13/50\n",
      "56/56 [==============================] - 76s 1s/step - loss: 0.4865 - iou_score: 0.5080 - f1-score: 0.6186 - val_loss: 0.5338 - val_iou_score: 0.4594 - val_f1-score: 0.5637\n",
      "Epoch 14/50\n",
      "56/56 [==============================] - 76s 1s/step - loss: 0.4699 - iou_score: 0.5188 - f1-score: 0.6284 - val_loss: 0.5361 - val_iou_score: 0.4549 - val_f1-score: 0.5636\n",
      "Epoch 15/50\n",
      "56/56 [==============================] - 75s 1s/step - loss: 0.4574 - iou_score: 0.5285 - f1-score: 0.6365 - val_loss: 0.5069 - val_iou_score: 0.4787 - val_f1-score: 0.5759\n",
      "Epoch 16/50\n",
      "56/56 [==============================] - 77s 1s/step - loss: 0.4539 - iou_score: 0.5337 - f1-score: 0.6415 - val_loss: 0.5112 - val_iou_score: 0.4792 - val_f1-score: 0.5870\n",
      "Epoch 17/50\n",
      "56/56 [==============================] - 77s 1s/step - loss: 0.4402 - iou_score: 0.5448 - f1-score: 0.6535 - val_loss: 0.4613 - val_iou_score: 0.5227 - val_f1-score: 0.6283\n",
      "Epoch 18/50\n",
      "56/56 [==============================] - 77s 1s/step - loss: 0.4237 - iou_score: 0.5618 - f1-score: 0.6691 - val_loss: 0.4654 - val_iou_score: 0.5272 - val_f1-score: 0.6318\n",
      "Epoch 19/50\n",
      "56/56 [==============================] - 76s 1s/step - loss: 0.4226 - iou_score: 0.5598 - f1-score: 0.6681 - val_loss: 0.4533 - val_iou_score: 0.5346 - val_f1-score: 0.6388\n",
      "Epoch 20/50\n",
      "56/56 [==============================] - 77s 1s/step - loss: 0.4133 - iou_score: 0.5688 - f1-score: 0.6738 - val_loss: 0.4509 - val_iou_score: 0.5334 - val_f1-score: 0.6396\n",
      "Epoch 21/50\n",
      "56/56 [==============================] - 76s 1s/step - loss: 0.3982 - iou_score: 0.5811 - f1-score: 0.6884 - val_loss: 0.4364 - val_iou_score: 0.5455 - val_f1-score: 0.6514\n",
      "Epoch 22/50\n",
      "56/56 [==============================] - 77s 1s/step - loss: 0.3969 - iou_score: 0.5823 - f1-score: 0.6874 - val_loss: 0.4385 - val_iou_score: 0.5406 - val_f1-score: 0.6419\n",
      "Epoch 23/50\n",
      "56/56 [==============================] - 77s 1s/step - loss: 0.3918 - iou_score: 0.5850 - f1-score: 0.6889 - val_loss: 0.4274 - val_iou_score: 0.5553 - val_f1-score: 0.6590\n",
      "Epoch 24/50\n",
      "56/56 [==============================] - 77s 1s/step - loss: 0.3814 - iou_score: 0.5993 - f1-score: 0.7034 - val_loss: 0.4216 - val_iou_score: 0.5565 - val_f1-score: 0.6580\n",
      "Epoch 25/50\n",
      "56/56 [==============================] - 77s 1s/step - loss: 0.3723 - iou_score: 0.6038 - f1-score: 0.7047 - val_loss: 0.4326 - val_iou_score: 0.5481 - val_f1-score: 0.6490\n",
      "Epoch 26/50\n",
      "56/56 [==============================] - 77s 1s/step - loss: 0.3718 - iou_score: 0.6044 - f1-score: 0.7047 - val_loss: 0.4220 - val_iou_score: 0.5566 - val_f1-score: 0.6587\n",
      "Epoch 27/50\n",
      "56/56 [==============================] - 75s 1s/step - loss: 0.3667 - iou_score: 0.6062 - f1-score: 0.7063 - val_loss: 0.4276 - val_iou_score: 0.5533 - val_f1-score: 0.6551\n",
      "Epoch 28/50\n",
      "56/56 [==============================] - 77s 1s/step - loss: 0.3654 - iou_score: 0.6081 - f1-score: 0.7094 - val_loss: 0.4133 - val_iou_score: 0.5663 - val_f1-score: 0.6668\n",
      "Epoch 29/50\n",
      "56/56 [==============================] - 76s 1s/step - loss: 0.3599 - iou_score: 0.6165 - f1-score: 0.7156 - val_loss: 0.4074 - val_iou_score: 0.5709 - val_f1-score: 0.6710\n",
      "Epoch 30/50\n",
      "56/56 [==============================] - 76s 1s/step - loss: 0.3506 - iou_score: 0.6218 - f1-score: 0.7209 - val_loss: 0.4061 - val_iou_score: 0.5717 - val_f1-score: 0.6721\n",
      "Epoch 31/50\n",
      "56/56 [==============================] - 77s 1s/step - loss: 0.3483 - iou_score: 0.6221 - f1-score: 0.7196 - val_loss: 0.4092 - val_iou_score: 0.5712 - val_f1-score: 0.6717\n",
      "Epoch 32/50\n",
      "56/56 [==============================] - 78s 1s/step - loss: 0.3461 - iou_score: 0.6265 - f1-score: 0.7234 - val_loss: 0.4134 - val_iou_score: 0.5664 - val_f1-score: 0.6677\n",
      "Epoch 33/50\n",
      "56/56 [==============================] - 77s 1s/step - loss: 0.3444 - iou_score: 0.6304 - f1-score: 0.7290 - val_loss: 0.4103 - val_iou_score: 0.5695 - val_f1-score: 0.6702\n",
      "Epoch 34/50\n",
      "56/56 [==============================] - 76s 1s/step - loss: 0.3392 - iou_score: 0.6288 - f1-score: 0.7257 - val_loss: 0.4055 - val_iou_score: 0.5729 - val_f1-score: 0.6730\n",
      "Epoch 35/50\n",
      "56/56 [==============================] - 75s 1s/step - loss: 0.3344 - iou_score: 0.6363 - f1-score: 0.7308 - val_loss: 0.4044 - val_iou_score: 0.5759 - val_f1-score: 0.6767\n",
      "Epoch 36/50\n",
      "56/56 [==============================] - 76s 1s/step - loss: 0.3270 - iou_score: 0.6442 - f1-score: 0.7397 - val_loss: 0.4077 - val_iou_score: 0.5734 - val_f1-score: 0.6742\n",
      "Epoch 37/50\n",
      "56/56 [==============================] - 76s 1s/step - loss: 0.3263 - iou_score: 0.6396 - f1-score: 0.7347 - val_loss: 0.4037 - val_iou_score: 0.5768 - val_f1-score: 0.6772\n",
      "Epoch 38/50\n",
      "56/56 [==============================] - 76s 1s/step - loss: 0.3266 - iou_score: 0.6390 - f1-score: 0.7358 - val_loss: 0.3993 - val_iou_score: 0.5824 - val_f1-score: 0.6840\n",
      "Epoch 39/50\n",
      "56/56 [==============================] - 76s 1s/step - loss: 0.3247 - iou_score: 0.6444 - f1-score: 0.7379 - val_loss: 0.3986 - val_iou_score: 0.5801 - val_f1-score: 0.6813\n",
      "Epoch 40/50\n",
      "56/56 [==============================] - 78s 1s/step - loss: 0.3132 - iou_score: 0.6539 - f1-score: 0.7463 - val_loss: 0.4063 - val_iou_score: 0.5734 - val_f1-score: 0.6745\n",
      "Epoch 41/50\n",
      "56/56 [==============================] - 76s 1s/step - loss: 0.3157 - iou_score: 0.6503 - f1-score: 0.7433 - val_loss: 0.3973 - val_iou_score: 0.5826 - val_f1-score: 0.6825\n",
      "Epoch 42/50\n",
      "56/56 [==============================] - 76s 1s/step - loss: 0.3068 - iou_score: 0.6628 - f1-score: 0.7523 - val_loss: 0.4209 - val_iou_score: 0.5617 - val_f1-score: 0.6678\n",
      "Epoch 43/50\n",
      "56/56 [==============================] - 75s 1s/step - loss: 0.3025 - iou_score: 0.6601 - f1-score: 0.7514 - val_loss: 0.4139 - val_iou_score: 0.5656 - val_f1-score: 0.6668\n",
      "Epoch 44/50\n",
      "56/56 [==============================] - 76s 1s/step - loss: 0.3033 - iou_score: 0.6616 - f1-score: 0.7540 - val_loss: 0.4062 - val_iou_score: 0.5731 - val_f1-score: 0.6746\n",
      "Epoch 45/50\n",
      "56/56 [==============================] - 78s 1s/step - loss: 0.3101 - iou_score: 0.6584 - f1-score: 0.7492 - val_loss: 0.3975 - val_iou_score: 0.5848 - val_f1-score: 0.6852\n",
      "Epoch 46/50\n",
      "56/56 [==============================] - 75s 1s/step - loss: 0.2972 - iou_score: 0.6664 - f1-score: 0.7583 - val_loss: 0.4034 - val_iou_score: 0.5763 - val_f1-score: 0.6786\n",
      "Epoch 47/50\n",
      "56/56 [==============================] - 75s 1s/step - loss: 0.3139 - iou_score: 0.6510 - f1-score: 0.7439 - val_loss: 0.4062 - val_iou_score: 0.5748 - val_f1-score: 0.6785\n",
      "Epoch 48/50\n",
      "56/56 [==============================] - 77s 1s/step - loss: 0.2965 - iou_score: 0.6693 - f1-score: 0.7591 - val_loss: 0.3987 - val_iou_score: 0.5818 - val_f1-score: 0.6828\n",
      "Epoch 49/50\n",
      "56/56 [==============================] - 74s 1s/step - loss: 0.2953 - iou_score: 0.6704 - f1-score: 0.7602 - val_loss: 0.3988 - val_iou_score: 0.5820 - val_f1-score: 0.6841\n",
      "Epoch 50/50\n",
      "56/56 [==============================] - 76s 1s/step - loss: 0.2942 - iou_score: 0.6702 - f1-score: 0.7574 - val_loss: 0.4091 - val_iou_score: 0.5711 - val_f1-score: 0.6729\n"
     ]
    }
   ],
   "source": [
    "history3=model3.fit(X_train3, \n",
    "          y_train_cat,\n",
    "          batch_size=8, \n",
    "          epochs=50,\n",
    "          verbose=1,\n",
    "          validation_data=(X_test3, y_test_cat))"
   ]
  },
  {
   "cell_type": "code",
   "execution_count": 18,
   "metadata": {},
   "outputs": [],
   "source": [
    "model3.save('vgg16_backbone_50epochs_saroadscenes.hdf5')"
   ]
  },
  {
   "cell_type": "code",
   "execution_count": 19,
   "metadata": {},
   "outputs": [
    {
     "data": {
      "image/png": "[encoded data removed]",
      "text/plain": [
       "<Figure size 432x288 with 1 Axes>"
      ]
     },
     "metadata": {
      "needs_background": "light"
     },
     "output_type": "display_data"
    },
    {
     "data": {
      "image/png": "[encoded data removed]",
      "text/plain": [
       "<Figure size 432x288 with 1 Axes>"
      ]
     },
     "metadata": {
      "needs_background": "light"
     },
     "output_type": "display_data"
    }
   ],
   "source": [
    "#Plot the training and validation accuracy and loss at each epoch\n",
    "loss = history3.history['loss']\n",
    "val_loss = history3.history['val_loss']\n",
    "epochs = range(1, len(loss) + 1)\n",
    "plt.plot(epochs, loss, 'y', label='Training loss')\n",
    "plt.plot(epochs, val_loss, 'r', label='Validation loss')\n",
    "plt.title('Training and validation loss')\n",
    "plt.xlabel('Epochs')\n",
    "plt.ylabel('Loss')\n",
    "plt.legend()\n",
    "plt.show()\n",
    "\n",
    "acc = history3.history['iou_score']\n",
    "val_acc = history3.history['val_iou_score']\n",
    "\n",
    "plt.plot(epochs, acc, 'y', label='Training IOU')\n",
    "plt.plot(epochs, val_acc, 'r', label='Validation IOU')\n",
    "plt.title('Training and validation IOU')\n",
    "plt.xlabel('Epochs')\n",
    "plt.ylabel('IOU')\n",
    "plt.legend()\n",
    "plt.show()"
   ]
  },
  {
   "cell_type": "code",
   "execution_count": 16,
   "metadata": {},
   "outputs": [],
   "source": [
    "from keras.models import load_model\n",
    "\n",
    "#Set compile=False as we are not loading it for training, only for prediction.\n",
    "model3 = load_model('vgg16_backbone_50epochs_saroadscenes.hdf5', compile=False)"
   ]
  },
  {
   "cell_type": "code",
   "execution_count": 20,
   "metadata": {},
   "outputs": [],
   "source": [
    "#IOU\n",
    "y_pred3=model3.predict(X_test3)\n",
    "y_pred3_argmax=np.argmax(y_pred3, axis=3)"
   ]
  },
  {
   "cell_type": "code",
   "execution_count": 21,
   "metadata": {},
   "outputs": [
    {
     "name": "stdout",
     "output_type": "stream",
     "text": [
      "Mean IoU = 0.5985959\n"
     ]
    }
   ],
   "source": [
    "n_classes = 6\n",
    "IOU_keras = MeanIoU(num_classes=n_classes)  \n",
    "IOU_keras.update_state(y_test[:,:,:,0], y_pred3_argmax)\n",
    "print(\"Mean IoU =\", IOU_keras.result().numpy())"
   ]
  },
  {
   "cell_type": "code",
   "execution_count": 22,
   "metadata": {},
   "outputs": [
    {
     "name": "stdout",
     "output_type": "stream",
     "text": [
      "[[3.41989e+05 6.06900e+03 6.92000e+02 1.08700e+03 2.02610e+04 1.51160e+04]\n",
      " [2.25300e+04 5.82770e+04 5.78000e+02 1.06200e+03 5.72000e+03 1.17310e+04]\n",
      " [1.80620e+04 5.44000e+02 3.84920e+04 1.38300e+03 1.53820e+04 5.13300e+03]\n",
      " [5.94900e+03 4.49000e+02 3.65000e+02 5.82500e+03 2.87900e+03 6.90900e+03]\n",
      " [2.80460e+04 1.85300e+03 2.48700e+03 1.21200e+03 4.15753e+05 7.57000e+03]\n",
      " [1.28660e+04 5.30100e+03 6.81000e+02 3.36600e+03 2.98300e+03 5.37030e+05]]\n"
     ]
    }
   ],
   "source": [
    "#To calculate I0U for each class...\n",
    "values = np.array(IOU_keras.get_weights()).reshape(n_classes, n_classes)\n",
    "print(values)"
   ]
  },
  {
   "cell_type": "code",
   "execution_count": 23,
   "metadata": {},
   "outputs": [],
   "source": [
    "class1_IoU = values[0,0]/(values[0,0] + values[0,1] + values[0,2] + values[0,3] + values[0,4] + values[0,5] + values[1,0] + values[2,0] + values[3,0] + values[4,0] + values[5,0])\n",
    "class2_IoU = values[1,1]/(values[1,1] + values[1,0] + values[1,2] + values[1,3] + values[1,4] + values[1,5] + values[0,1] + values[2,1] + values[3,1] + values[4,1] + values[5,1])\n",
    "class3_IoU = values[2,2]/(values[2,2] + values[2,0] + values[2,1] + values[2,3] + values[2,4] + values[2,5] + values[0,2] + values[1,2] + values[3,2] + values[4,2] + values[5,2])\n",
    "class4_IoU = values[3,3]/(values[3,3] + values[3,0] + values[3,1] + values[3,2] + values[3,4] + values[3,5] + values[0,3] + values[1,3] + values[2,3] + values[4,3] + values[5,3])\n",
    "class5_IoU = values[4,4]/(values[4,4] + values[4,0] + values[4,1] + values[4,2] + values[4,3] + values[4,5] + values[0,4] + values[1,4] + values[2,4] + values[3,4] + values[5,4])\n",
    "class6_IoU = values[5,5]/(values[5,5] + values[5,0] + values[5,1] + values[5,2] + values[5,3] + values[5,4] + values[0,5] + values[1,5] + values[2,5] + values[3,5] + values[4,5])"
   ]
  },
  {
   "cell_type": "code",
   "execution_count": 24,
   "metadata": {},
   "outputs": [
    {
     "name": "stdout",
     "output_type": "stream",
     "text": [
      "IoU for class1 is:  0.72353053\n",
      "IoU for class2 is:  0.51069105\n",
      "IoU for class3 is:  0.45933723\n",
      "IoU for class4 is:  0.19107132\n",
      "IoU for class5 is:  0.8246679\n",
      "IoU for class6 is:  0.88227755\n"
     ]
    }
   ],
   "source": [
    "print(\"IoU for class1 is: \", class1_IoU)\n",
    "print(\"IoU for class2 is: \", class2_IoU)\n",
    "print(\"IoU for class3 is: \", class3_IoU)\n",
    "print(\"IoU for class4 is: \", class4_IoU)\n",
    "print(\"IoU for class5 is: \", class5_IoU)\n",
    "print(\"IoU for class6 is: \", class6_IoU)"
   ]
  },
  {
   "cell_type": "code",
   "execution_count": 25,
   "metadata": {},
   "outputs": [
    {
     "data": {
      "text/plain": [
       "<matplotlib.image.AxesImage at 0x24904246370>"
      ]
     },
     "execution_count": 25,
     "metadata": {},
     "output_type": "execute_result"
    },
    {
     "data": {
      "image/png": "[encoded data removed]",
      "text/plain": [
       "<Figure size 432x288 with 1 Axes>"
      ]
     },
     "metadata": {
      "needs_background": "light"
     },
     "output_type": "display_data"
    }
   ],
   "source": [
    "#Vaerify the prediction on first image\n",
    "plt.imshow(train_images[0, :,:,0], cmap='gray')"
   ]
  },
  {
   "cell_type": "code",
   "execution_count": 26,
   "metadata": {},
   "outputs": [
    {
     "data": {
      "text/plain": [
       "<matplotlib.image.AxesImage at 0x2490429ab50>"
      ]
     },
     "execution_count": 26,
     "metadata": {},
     "output_type": "execute_result"
    },
    {
     "data": {
      "image/png": "[encoded data removed]",
      "text/plain": [
       "<Figure size 432x288 with 1 Axes>"
      ]
     },
     "metadata": {
      "needs_background": "light"
     },
     "output_type": "display_data"
    }
   ],
   "source": [
    "plt.imshow(train_masks[0], cmap='gray')"
   ]
  },
  {
   "cell_type": "code",
   "execution_count": null,
   "metadata": {},
   "outputs": [],
   "source": [
    "#Test some random images\n",
    "import random\n",
    "test_img_number = random.randint(0, len(X_test3))\n",
    "test_img = X_test3[test_img_number]\n",
    "ground_truth=y_test[test_img_number]\n",
    "test_img_input=np.expand_dims(test_img, 0)\n",
    "\n",
    "test_img_input3 = preprocess_input3(test_img_input)\n",
    "\n",
    "test_pred3 = model3.predict(test_img_input3)\n",
    "test_prediction3 = np.argmax(test_pred3, axis=3)[0,:,:]\n",
    "\n",
    "\n",
    "plt.figure(figsize=(12, 8))\n",
    "plt.subplot(231)\n",
    "plt.title('Testing Image')\n",
    "plt.imshow(test_img[:,:,0], cmap='gray')\n",
    "plt.subplot(232)\n",
    "plt.title('Testing Label')\n",
    "plt.imshow(ground_truth[:,:,0], cmap='jet')\n",
    "plt.subplot(233)\n",
    "plt.title('Prediction on test image')\n",
    "plt.imshow(test_prediction3, cmap='jet')\n",
    "plt.show()"
   ]
  }
 ],
 "metadata": {
  "kernelspec": {
   "display_name": "Python 3",
   "language": "python",
   "name": "python3"
  },
  "language_info": {
   "codemirror_mode": {
    "name": "ipython",
    "version": 3
   },
   "file_extension": ".py",
   "mimetype": "text/x-python",
   "name": "python",
   "nbconvert_exporter": "python",
   "pygments_lexer": "ipython3",
   "version": "3.8.3"
  }
 },
 "nbformat": 4,
 "nbformat_minor": 4
}
